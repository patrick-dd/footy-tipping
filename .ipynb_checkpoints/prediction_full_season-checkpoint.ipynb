{
 "cells": [
  {
   "cell_type": "markdown",
   "metadata": {},
   "source": [
    "#Footy tipping! \n",
    "\n",
    "Trying to predict a whole season's games!"
   ]
  },
  {
   "cell_type": "code",
   "execution_count": 252,
   "metadata": {
    "collapsed": true
   },
   "outputs": [],
   "source": [
    "%matplotlib inline\n",
    "from IPython.display import Image\n",
    "import matplotlib.pyplot as plt\n",
    "import statsmodels.formula.api as sm\n",
    "import numpy as np\n",
    "import pandas as pd\n",
    "from sklearn.linear_model import LogisticRegression\n",
    "from sklearn import svm, tree, ensemble\n",
    "from sklearn.naive_bayes import GaussianNB\n",
    "from scipy.optimize import minimize"
   ]
  },
  {
   "cell_type": "code",
   "execution_count": 2,
   "metadata": {
    "collapsed": false
   },
   "outputs": [],
   "source": [
    "df_train = pd.read_pickle('afl_train_full_season.pkl')\n",
    "df_train = df_train[df_train['season']>=2005]\n",
    "X_train = df_train.drop(['mid', 'win_tid', 'tid1_points', 'tid2_points', 'h_tid', 'h_score', 'a_tid', 'a_score', 'margin', 'tid1_score', 'tid2_score', 'prob'], axis=1)\n",
    "y_train = df_train['prob']"
   ]
  },
  {
   "cell_type": "code",
   "execution_count": 3,
   "metadata": {
    "collapsed": false
   },
   "outputs": [],
   "source": [
    "df_cv = pd.read_pickle('afl_cval_full_season.pkl')\n",
    "X_cv = df_cv.drop(['mid', 'win_tid', 'tid1_points', 'tid2_points', 'h_tid', 'h_score', 'a_tid', 'a_score', 'margin', 'tid1_score', 'tid2_score', 'prob'], axis=1)\n",
    "y_cv = df_cv['prob']"
   ]
  },
  {
   "cell_type": "code",
   "execution_count": 4,
   "metadata": {
    "collapsed": true
   },
   "outputs": [],
   "source": [
    "df_test = pd.read_pickle('afl_test_full_season.pkl')\n",
    "X_test = df_test.drop(['mid', 'win_tid', 'tid1_points', 'tid2_points', 'h_tid', 'h_score', 'a_tid', 'a_score', 'margin', 'tid1_score', 'tid2_score', 'prob'], axis=1)\n",
    "y_test = df_test['prob']"
   ]
  },
  {
   "cell_type": "markdown",
   "metadata": {},
   "source": [
    "### the error function\n",
    "\n",
    "$\\textrm{Score} = - \\frac{1}{n} \\sum_{i=1}^n \\left[ y_i \\log(\\hat{y}_i) + (1 - y_i) \\log(1 - \\hat{y}_i)\\right]$"
   ]
  },
  {
   "cell_type": "code",
   "execution_count": 267,
   "metadata": {
    "collapsed": true
   },
   "outputs": [],
   "source": [
    "def error_function(predicted, actual):\n",
    "    \"\"\"\n",
    "    Computes the error function given error probabilities (predicted)\n",
    "    and actual win loss\n",
    "    \"\"\"\n",
    "    a = actual * np.log(predicted) \n",
    "    b = (1 - actual) * np.log(1-predicted)\n",
    "    n = float(len(a))\n",
    "    return - (sum(a) + sum(b)) / n"
   ]
  },
  {
   "cell_type": "markdown",
   "metadata": {},
   "source": [
    "# Collecting predictions for stacking model\n",
    "\n",
    "Plan: Logistic regression stacking of a bunch of models\n",
    "+ SVM\n",
    "+ Logistic regression\n",
    "+ Decision trees\n",
    "+ Gradient boosting\n"
   ]
  },
  {
   "cell_type": "markdown",
   "metadata": {},
   "source": [
    "###1 a) SVM\n",
    "Using Radial Basis Functions"
   ]
  },
  {
   "cell_type": "code",
   "execution_count": 268,
   "metadata": {
    "collapsed": false
   },
   "outputs": [
    {
     "data": {
      "text/plain": [
       "0.57528301180941399"
      ]
     },
     "execution_count": 268,
     "metadata": {},
     "output_type": "execute_result"
    }
   ],
   "source": [
    "clf_1a = svm.SVC(kernel='rbf', probability = True)\n",
    "clf_1a.fit(X_train, y_train)\n",
    "pred_prob_1a = clf_1a.predict_proba(X_train)[:,1]\n",
    "pred_1a = clf_1a.predict(X_train)\n",
    "e_1a = error_function(pred_prob_1a, y_train)\n",
    "e_1a"
   ]
  },
  {
   "cell_type": "code",
   "execution_count": 271,
   "metadata": {
    "collapsed": false
   },
   "outputs": [
    {
     "data": {
      "text/plain": [
       "0.55209356059127834"
      ]
     },
     "execution_count": 271,
     "metadata": {},
     "output_type": "execute_result"
    }
   ],
   "source": [
    "pred_prob_1a_cv = clf_1a.predict_proba(X_cv)[:,1]\n",
    "pred_1a_cv = clf_1a.predict(X_cv)\n",
    "e_1a_cv = error_function(pred_prob_1a_cv, y_cv)\n",
    "e_1a_cv"
   ]
  },
  {
   "cell_type": "code",
   "execution_count": 272,
   "metadata": {
    "collapsed": true
   },
   "outputs": [],
   "source": [
    "pred_prob_1a_test = clf_1a.predict_proba(X_test)[:,1]\n",
    "pred_1a_test = clf_1a.predict(X_test)\n",
    "e_1a_test = error_function(pred_prob_1a_test, y_test)"
   ]
  },
  {
   "cell_type": "markdown",
   "metadata": {},
   "source": [
    "### 1 b) SVM\n",
    "Using sigmoid kernel"
   ]
  },
  {
   "cell_type": "code",
   "execution_count": 273,
   "metadata": {
    "collapsed": false
   },
   "outputs": [
    {
     "data": {
      "text/plain": [
       "0.61115802051649348"
      ]
     },
     "execution_count": 273,
     "metadata": {},
     "output_type": "execute_result"
    }
   ],
   "source": [
    "clf_1b = svm.SVC(kernel='linear', probability = True, C=1)\n",
    "clf_1b.fit(X_train, y_train)\n",
    "pred_prob_1b = clf_1b.predict_proba(X_train)[:,1]\n",
    "pred_1b = clf_1b.predict(X_train)\n",
    "e_1b = error_function(pred_prob_1b, y_train)\n",
    "e_1b"
   ]
  },
  {
   "cell_type": "code",
   "execution_count": 274,
   "metadata": {
    "collapsed": false
   },
   "outputs": [
    {
     "data": {
      "text/plain": [
       "0.59508313314165762"
      ]
     },
     "execution_count": 274,
     "metadata": {},
     "output_type": "execute_result"
    }
   ],
   "source": [
    "pred_prob_1b_cv = clf_1b.predict_proba(X_cv)[:,1]\n",
    "pred_1b_cv = clf_1b.predict(X_cv)\n",
    "e_1b_cv = error_function(pred_prob_1b_cv, y_cv)\n",
    "e_1b_cv"
   ]
  },
  {
   "cell_type": "code",
   "execution_count": 275,
   "metadata": {
    "collapsed": true
   },
   "outputs": [],
   "source": [
    "pred_prob_1b_test = clf_1b.predict_proba(X_test)[:,1]\n",
    "pred_1b_test = clf_1b.predict(X_test)\n",
    "e_1b_test = error_function(pred_prob_1b_test, y_test)"
   ]
  },
  {
   "cell_type": "markdown",
   "metadata": {},
   "source": [
    "###1 c) SVM\n",
    "Using polynomial kernel"
   ]
  },
  {
   "cell_type": "code",
   "execution_count": 276,
   "metadata": {
    "collapsed": false
   },
   "outputs": [
    {
     "data": {
      "text/plain": [
       "0.60158875954925506"
      ]
     },
     "execution_count": 276,
     "metadata": {},
     "output_type": "execute_result"
    }
   ],
   "source": [
    "clf_1c = svm.SVC(kernel='poly', probability = True, C=1)\n",
    "clf_1c.fit(X_train, y_train)\n",
    "pred_prob_1c = clf_1c.predict_proba(X_train)[:,1]\n",
    "pred_1c = clf_1c.predict(X_train)\n",
    "e_1c = error_function(pred_prob_1c, y_train)\n",
    "e_1c"
   ]
  },
  {
   "cell_type": "code",
   "execution_count": 277,
   "metadata": {
    "collapsed": false
   },
   "outputs": [
    {
     "data": {
      "text/plain": [
       "0.56219470129535276"
      ]
     },
     "execution_count": 277,
     "metadata": {},
     "output_type": "execute_result"
    }
   ],
   "source": [
    "pred_prob_1c_cv = clf_1c.predict_proba(X_cv)[:,1]\n",
    "pred_1c_cv = clf_1c.predict(X_cv)\n",
    "e_1c_cv = error_function(pred_prob_1c_cv, y_cv)\n",
    "e_1c_cv"
   ]
  },
  {
   "cell_type": "code",
   "execution_count": 278,
   "metadata": {
    "collapsed": true
   },
   "outputs": [],
   "source": [
    "pred_prob_1c_test = clf_1c.predict_proba(X_test)[:,1]\n",
    "pred_1c_test = clf_1c.predict(X_test)\n",
    "e_1c_test = error_function(pred_prob_1c_test, y_test)"
   ]
  },
  {
   "cell_type": "markdown",
   "metadata": {},
   "source": [
    "###2. Logistic regression"
   ]
  },
  {
   "cell_type": "code",
   "execution_count": 279,
   "metadata": {
    "collapsed": false
   },
   "outputs": [
    {
     "data": {
      "text/plain": [
       "0.59388641132894315"
      ]
     },
     "execution_count": 279,
     "metadata": {},
     "output_type": "execute_result"
    }
   ],
   "source": [
    "clf_2 = LogisticRegression()\n",
    "clf_2.fit(X_train, y_train)\n",
    "pred_prob_2 = clf_2.predict_proba(X_train)[:,1]\n",
    "pred_2 = clf_2.predict(X_train)\n",
    "e_2 = error_function(pred_prob_2, y_train)\n",
    "e_2"
   ]
  },
  {
   "cell_type": "code",
   "execution_count": 281,
   "metadata": {
    "collapsed": false
   },
   "outputs": [
    {
     "data": {
      "text/plain": [
       "0.55965521757691283"
      ]
     },
     "execution_count": 281,
     "metadata": {},
     "output_type": "execute_result"
    }
   ],
   "source": [
    "pred_prob_2_cv = clf_2.predict_proba(X_cv)[:,1]\n",
    "pred_2_cv = clf_2.predict(X_cv)\n",
    "e_2_cv = error_function(pred_prob_2_cv, y_cv)\n",
    "e_2_cv"
   ]
  },
  {
   "cell_type": "code",
   "execution_count": 283,
   "metadata": {
    "collapsed": true
   },
   "outputs": [],
   "source": [
    "pred_prob_2_test = clf_2.predict_proba(X_test)[:,1]\n",
    "pred_2_test = clf_2.predict(X_test)\n",
    "e_2_test = error_function(pred_prob_2_test, y_test)"
   ]
  },
  {
   "cell_type": "markdown",
   "metadata": {},
   "source": [
    "###3. Decision trees\n",
    "**3 a) Gini criterion for tree split**"
   ]
  },
  {
   "cell_type": "code",
   "execution_count": 284,
   "metadata": {
    "collapsed": false
   },
   "outputs": [
    {
     "data": {
      "text/plain": [
       "0.61877907174943358"
      ]
     },
     "execution_count": 284,
     "metadata": {},
     "output_type": "execute_result"
    }
   ],
   "source": [
    "clf_3a = tree.DecisionTreeClassifier(criterion=\"gini\", max_depth=3)\n",
    "clf_3a.fit(X_train, y_train)\n",
    "pred_prob_3a = clf_3a.predict_proba(X_train)[:,1]\n",
    "pred_3a = clf_3a.predict(X_train)\n",
    "e_3a = error_function(pred_prob_3a, y_train)\n",
    "e_3a"
   ]
  },
  {
   "cell_type": "code",
   "execution_count": 285,
   "metadata": {
    "collapsed": false
   },
   "outputs": [
    {
     "data": {
      "text/plain": [
       "0.59994216362392883"
      ]
     },
     "execution_count": 285,
     "metadata": {},
     "output_type": "execute_result"
    }
   ],
   "source": [
    "pred_prob_3a_cv = clf_3a.predict_proba(X_cv)[:,1]\n",
    "pred_3a_cv = clf_3a.predict(X_cv)\n",
    "e_3a_cv = error_function(pred_prob_3a_cv, y_cv)\n",
    "e_3a_cv"
   ]
  },
  {
   "cell_type": "code",
   "execution_count": 286,
   "metadata": {
    "collapsed": true
   },
   "outputs": [],
   "source": [
    "pred_prob_3a_test = clf_3a.predict_proba(X_test)[:,1]\n",
    "pred_3a_test = clf_3a.predict(X_test)\n",
    "e_3a_test = error_function(pred_prob_3a_test, y_test)"
   ]
  },
  {
   "cell_type": "markdown",
   "metadata": {},
   "source": [
    "** 3 b) Entropy criterion for tree split**"
   ]
  },
  {
   "cell_type": "code",
   "execution_count": 287,
   "metadata": {
    "collapsed": false
   },
   "outputs": [
    {
     "data": {
      "text/plain": [
       "0.63822908936327138"
      ]
     },
     "execution_count": 287,
     "metadata": {},
     "output_type": "execute_result"
    }
   ],
   "source": [
    "clf_3b = tree.DecisionTreeClassifier(criterion=\"entropy\", max_depth=2)\n",
    "clf_3b.fit(X_train, y_train)\n",
    "pred_prob_3b = clf_3b.predict_proba(X_train)[:,1]\n",
    "pred_3b = clf_3b.predict(X_train)\n",
    "e_3b = error_function(pred_prob_3b, y_train)\n",
    "e_3b"
   ]
  },
  {
   "cell_type": "code",
   "execution_count": 288,
   "metadata": {
    "collapsed": false
   },
   "outputs": [
    {
     "data": {
      "text/plain": [
       "0.61812184838629691"
      ]
     },
     "execution_count": 288,
     "metadata": {},
     "output_type": "execute_result"
    }
   ],
   "source": [
    "pred_prob_3b_cv = clf_3b.predict_proba(X_cv)[:,1]\n",
    "pred_3b_cv = clf_3b.predict(X_cv)\n",
    "e_3b_cv = error_function(pred_prob_3b_cv, y_cv)\n",
    "e_3b_cv"
   ]
  },
  {
   "cell_type": "code",
   "execution_count": 289,
   "metadata": {
    "collapsed": true
   },
   "outputs": [],
   "source": [
    "pred_prob_3b_test = clf_3b.predict_proba(X_test)[:,1]\n",
    "pred_3b_test = clf_3b.predict(X_test)\n",
    "e_3b_test = error_function(pred_prob_3b_test, y_test)"
   ]
  },
  {
   "cell_type": "markdown",
   "metadata": {},
   "source": [
    "**3 c) Random tree classifier, Gini criterion**"
   ]
  },
  {
   "cell_type": "code",
   "execution_count": 290,
   "metadata": {
    "collapsed": false
   },
   "outputs": [
    {
     "data": {
      "text/plain": [
       "0.67396786310877366"
      ]
     },
     "execution_count": 290,
     "metadata": {},
     "output_type": "execute_result"
    }
   ],
   "source": [
    "np.random.seed(96)\n",
    "clf_3c = tree.ExtraTreeClassifier(criterion=\"gini\", max_depth=2)\n",
    "clf_3c.fit(X_train, y_train)\n",
    "pred_prob_3c = clf_3c.predict_proba(X_train)[:,1]\n",
    "pred_3c = clf_3c.predict(X_train)\n",
    "e_3c = error_function(pred_prob_3c, y_train)\n",
    "e_3c"
   ]
  },
  {
   "cell_type": "code",
   "execution_count": 291,
   "metadata": {
    "collapsed": false
   },
   "outputs": [
    {
     "data": {
      "text/plain": [
       "0.67846329788740345"
      ]
     },
     "execution_count": 291,
     "metadata": {},
     "output_type": "execute_result"
    }
   ],
   "source": [
    "pred_prob_3c_cv = clf_3c.predict_proba(X_cv)[:,1]\n",
    "pred_3c_cv = clf_3c.predict(X_cv)\n",
    "e_3c_cv = error_function(pred_prob_3c_cv, y_cv)\n",
    "e_3c_cv"
   ]
  },
  {
   "cell_type": "code",
   "execution_count": 292,
   "metadata": {
    "collapsed": true
   },
   "outputs": [],
   "source": [
    "pred_prob_3c_test = clf_3c.predict_proba(X_test)[:,1]\n",
    "pred_3c_test = clf_3c.predict(X_test)\n",
    "e_3c_test = error_function(pred_prob_3c_test, y_test)"
   ]
  },
  {
   "cell_type": "markdown",
   "metadata": {},
   "source": [
    "**3 d) Random tree classifier, Entropy criterion**"
   ]
  },
  {
   "cell_type": "code",
   "execution_count": 293,
   "metadata": {
    "collapsed": false
   },
   "outputs": [
    {
     "data": {
      "text/plain": [
       "0.68237128936823932"
      ]
     },
     "execution_count": 293,
     "metadata": {},
     "output_type": "execute_result"
    }
   ],
   "source": [
    "clf_3d = tree.ExtraTreeClassifier(criterion=\"entropy\", max_depth=2)\n",
    "clf_3d.fit(X_train, y_train)\n",
    "pred_prob_3d = clf_3d.predict_proba(X_train)[:,1]\n",
    "pred_3d = clf_3d.predict(X_train)\n",
    "e_3d = error_function(pred_prob_3d, y_train)\n",
    "e_3d"
   ]
  },
  {
   "cell_type": "code",
   "execution_count": 294,
   "metadata": {
    "collapsed": false
   },
   "outputs": [
    {
     "data": {
      "text/plain": [
       "0.6784441434664551"
      ]
     },
     "execution_count": 294,
     "metadata": {},
     "output_type": "execute_result"
    }
   ],
   "source": [
    "pred_prob_3d_cv = clf_3d.predict_proba(X_cv)[:,1]\n",
    "pred_3d_cv = clf_3d.predict(X_cv)\n",
    "e_3d_cv = error_function(pred_prob_3d_cv, y_cv)\n",
    "e_3d_cv"
   ]
  },
  {
   "cell_type": "code",
   "execution_count": 295,
   "metadata": {
    "collapsed": true
   },
   "outputs": [],
   "source": [
    "pred_prob_3d_test = clf_3d.predict_proba(X_test)[:,1]\n",
    "pred_3d_test = clf_3d.predict(X_test)\n",
    "e_3d_test = error_function(pred_prob_3d_test, y_test)"
   ]
  },
  {
   "cell_type": "markdown",
   "metadata": {},
   "source": [
    "###4 Gradient Boosting"
   ]
  },
  {
   "cell_type": "code",
   "execution_count": 296,
   "metadata": {
    "collapsed": false
   },
   "outputs": [
    {
     "data": {
      "text/plain": [
       "0.55097543743183608"
      ]
     },
     "execution_count": 296,
     "metadata": {},
     "output_type": "execute_result"
    }
   ],
   "source": [
    "clf_4 = ensemble.GradientBoostingClassifier(n_estimators=100, learning_rate=1.0,\n",
    "                                 max_depth=1, random_state=0).fit(X_train, y_train)\n",
    "pred_prob_4 = clf_4.predict_proba(X_train)[:,1]\n",
    "e_4 = error_function(pred_prob_4, y_train)\n",
    "e_4"
   ]
  },
  {
   "cell_type": "code",
   "execution_count": 298,
   "metadata": {
    "collapsed": false
   },
   "outputs": [
    {
     "data": {
      "text/plain": [
       "0.52676526590485706"
      ]
     },
     "execution_count": 298,
     "metadata": {},
     "output_type": "execute_result"
    }
   ],
   "source": [
    "pred_prob_4_cv = clf_4.predict_proba(X_cv)[:,1]\n",
    "e_4_cv = error_function(pred_prob_4_cv, y_cv)\n",
    "e_4_cv"
   ]
  },
  {
   "cell_type": "code",
   "execution_count": 299,
   "metadata": {
    "collapsed": true
   },
   "outputs": [],
   "source": [
    "pred_prob_4_test = clf_4.predict_proba(X_test)[:,1]\n",
    "e_4_test = error_function(pred_prob_4_test, y_test)"
   ]
  },
  {
   "cell_type": "markdown",
   "metadata": {
    "collapsed": false
   },
   "source": [
    "###Ensembling!"
   ]
  },
  {
   "cell_type": "markdown",
   "metadata": {},
   "source": [
    "**'Unweighted' average**"
   ]
  },
  {
   "cell_type": "code",
   "execution_count": 300,
   "metadata": {
    "collapsed": false
   },
   "outputs": [
    {
     "data": {
      "text/plain": [
       "0.59543234039186743"
      ]
     },
     "execution_count": 300,
     "metadata": {},
     "output_type": "execute_result"
    }
   ],
   "source": [
    "X_ensemble = np.array((pred_prob_1a, pred_prob_1b, pred_prob_1c, pred_prob_2, \n",
    "                       pred_prob_3a, pred_prob_3b, pred_prob_3c, pred_prob_3d,\n",
    "                       pred_prob_4))\n",
    "votes = np.array([np.mean(X_ensemble[:,i]) for i in range(len(X_ensemble.T))])\n",
    "error_function(votes, y_train)"
   ]
  },
  {
   "cell_type": "markdown",
   "metadata": {},
   "source": [
    "**Average weighted by error function**"
   ]
  },
  {
   "cell_type": "code",
   "execution_count": 301,
   "metadata": {
    "collapsed": false
   },
   "outputs": [
    {
     "data": {
      "text/plain": [
       "0.59307566902074249"
      ]
     },
     "execution_count": 301,
     "metadata": {},
     "output_type": "execute_result"
    }
   ],
   "source": [
    "errors = np.array((e_1a, e_1b, e_1c, e_2, e_3a, e_3b, e_3c, e_3d, e_4))\n",
    "errors = 1./errors\n",
    "weights = errors / sum(errors)\n",
    "votes = np.dot(weights, X_ensemble)\n",
    "error_function(votes, y_train)"
   ]
  },
  {
   "cell_type": "markdown",
   "metadata": {},
   "source": [
    "**Logistic regression**"
   ]
  },
  {
   "cell_type": "code",
   "execution_count": 302,
   "metadata": {
    "collapsed": false
   },
   "outputs": [
    {
     "data": {
      "text/plain": [
       "0.5404689821407217"
      ]
     },
     "execution_count": 302,
     "metadata": {},
     "output_type": "execute_result"
    }
   ],
   "source": [
    "clf_ensemble = LogisticRegression()\n",
    "clf_ensemble.fit(X_ensemble.T, y_train)\n",
    "pred_clf_ensemble = clf_ensemble.predict_proba(X_ensemble.T)[:,1]\n",
    "error_function(pred_clf_ensemble, y_train)"
   ]
  },
  {
   "cell_type": "markdown",
   "metadata": {},
   "source": [
    "*Cross validation set*"
   ]
  },
  {
   "cell_type": "code",
   "execution_count": 304,
   "metadata": {
    "collapsed": false
   },
   "outputs": [
    {
     "data": {
      "text/plain": [
       "0.51325083239646618"
      ]
     },
     "execution_count": 304,
     "metadata": {},
     "output_type": "execute_result"
    }
   ],
   "source": [
    "X_ensemble_cv = np.array((pred_prob_1a_cv, pred_prob_1b_cv, pred_prob_1c_cv, pred_prob_2_cv, \n",
    "                       pred_prob_3a_cv, pred_prob_3b_cv, pred_prob_3c_cv, pred_prob_3d_cv,\n",
    "                         pred_prob_4_cv))\n",
    "pred_clf_ensemble_cv = clf_ensemble.predict_proba(X_ensemble_cv.T)[:,1]\n",
    "error_function(pred_clf_ensemble_cv, y_cv)"
   ]
  },
  {
   "cell_type": "code",
   "execution_count": 306,
   "metadata": {
    "collapsed": true
   },
   "outputs": [],
   "source": [
    "X_ensemble_test = np.array((pred_prob_1a_test, pred_prob_1b_test, pred_prob_1c_test, pred_prob_2_test, \n",
    "                       pred_prob_3a_test, pred_prob_3b_test, pred_prob_3c_test, pred_prob_3d_test,\n",
    "                         pred_prob_4_test))\n",
    "pred_clf_ensemble_test = clf_ensemble.predict_proba(X_ensemble_test.T)[:,1]"
   ]
  },
  {
   "cell_type": "markdown",
   "metadata": {},
   "source": [
    "###Submission"
   ]
  },
  {
   "cell_type": "code",
   "execution_count": 308,
   "metadata": {
    "collapsed": false
   },
   "outputs": [],
   "source": [
    "df_submission = pd.DataFrame()\n",
    "\n",
    "# Extract the `rid` column (ie. <round>_<tid1>_<tid2>) from the `mid` column of the test set.\n",
    "df_submission[\"rid\"] = df_test[\"mid\"].str.slice(5)\n",
    "\n",
    "# Assign the predicted `tid1` win probabilities to the `prob` column.\n",
    "df_submission[\"prob\"] = pred_clf_ensemble_test"
   ]
  },
  {
   "cell_type": "code",
   "execution_count": 309,
   "metadata": {
    "collapsed": false
   },
   "outputs": [
    {
     "data": {
      "text/html": [
       "<div>\n",
       "<table border=\"1\" class=\"dataframe\">\n",
       "  <thead>\n",
       "    <tr style=\"text-align: right;\">\n",
       "      <th></th>\n",
       "      <th>rid</th>\n",
       "      <th>prob</th>\n",
       "    </tr>\n",
       "  </thead>\n",
       "  <tbody>\n",
       "    <tr>\n",
       "      <th>0</th>\n",
       "      <td>R01_103_114</td>\n",
       "      <td>0.270309</td>\n",
       "    </tr>\n",
       "    <tr>\n",
       "      <th>1</th>\n",
       "      <td>R01_108_111</td>\n",
       "      <td>0.359224</td>\n",
       "    </tr>\n",
       "    <tr>\n",
       "      <th>2</th>\n",
       "      <td>R01_105_116</td>\n",
       "      <td>0.120215</td>\n",
       "    </tr>\n",
       "    <tr>\n",
       "      <th>3</th>\n",
       "      <td>R01_102_104</td>\n",
       "      <td>0.287823</td>\n",
       "    </tr>\n",
       "    <tr>\n",
       "      <th>4</th>\n",
       "      <td>R01_117_118</td>\n",
       "      <td>0.539268</td>\n",
       "    </tr>\n",
       "    <tr>\n",
       "      <th>5</th>\n",
       "      <td>R01_109_115</td>\n",
       "      <td>0.644048</td>\n",
       "    </tr>\n",
       "    <tr>\n",
       "      <th>6</th>\n",
       "      <td>R01_101_112</td>\n",
       "      <td>0.518249</td>\n",
       "    </tr>\n",
       "    <tr>\n",
       "      <th>7</th>\n",
       "      <td>R01_106_113</td>\n",
       "      <td>0.587261</td>\n",
       "    </tr>\n",
       "    <tr>\n",
       "      <th>8</th>\n",
       "      <td>R01_107_110</td>\n",
       "      <td>0.175839</td>\n",
       "    </tr>\n",
       "    <tr>\n",
       "      <th>9</th>\n",
       "      <td>R02_103_117</td>\n",
       "      <td>0.137694</td>\n",
       "    </tr>\n",
       "    <tr>\n",
       "      <th>10</th>\n",
       "      <td>R02_114_118</td>\n",
       "      <td>0.315115</td>\n",
       "    </tr>\n",
       "    <tr>\n",
       "      <th>11</th>\n",
       "      <td>R02_109_111</td>\n",
       "      <td>0.608820</td>\n",
       "    </tr>\n",
       "    <tr>\n",
       "      <th>12</th>\n",
       "      <td>R02_101_104</td>\n",
       "      <td>0.428109</td>\n",
       "    </tr>\n",
       "    <tr>\n",
       "      <th>13</th>\n",
       "      <td>R02_113_116</td>\n",
       "      <td>0.139773</td>\n",
       "    </tr>\n",
       "    <tr>\n",
       "      <th>14</th>\n",
       "      <td>R02_108_115</td>\n",
       "      <td>0.535203</td>\n",
       "    </tr>\n",
       "    <tr>\n",
       "      <th>15</th>\n",
       "      <td>R02_106_107</td>\n",
       "      <td>0.291323</td>\n",
       "    </tr>\n",
       "    <tr>\n",
       "      <th>16</th>\n",
       "      <td>R02_105_110</td>\n",
       "      <td>0.136928</td>\n",
       "    </tr>\n",
       "    <tr>\n",
       "      <th>17</th>\n",
       "      <td>R02_102_112</td>\n",
       "      <td>0.118377</td>\n",
       "    </tr>\n",
       "    <tr>\n",
       "      <th>18</th>\n",
       "      <td>R03_104_115</td>\n",
       "      <td>0.746310</td>\n",
       "    </tr>\n",
       "    <tr>\n",
       "      <th>19</th>\n",
       "      <td>R03_101_111</td>\n",
       "      <td>0.736841</td>\n",
       "    </tr>\n",
       "    <tr>\n",
       "      <th>20</th>\n",
       "      <td>R03_103_105</td>\n",
       "      <td>0.189439</td>\n",
       "    </tr>\n",
       "    <tr>\n",
       "      <th>21</th>\n",
       "      <td>R03_109_116</td>\n",
       "      <td>0.113200</td>\n",
       "    </tr>\n",
       "    <tr>\n",
       "      <th>22</th>\n",
       "      <td>R03_112_113</td>\n",
       "      <td>0.402098</td>\n",
       "    </tr>\n",
       "    <tr>\n",
       "      <th>23</th>\n",
       "      <td>R03_102_114</td>\n",
       "      <td>0.158309</td>\n",
       "    </tr>\n",
       "    <tr>\n",
       "      <th>24</th>\n",
       "      <td>R03_110_118</td>\n",
       "      <td>0.706449</td>\n",
       "    </tr>\n",
       "    <tr>\n",
       "      <th>25</th>\n",
       "      <td>R03_106_117</td>\n",
       "      <td>0.376426</td>\n",
       "    </tr>\n",
       "    <tr>\n",
       "      <th>26</th>\n",
       "      <td>R03_107_108</td>\n",
       "      <td>0.810485</td>\n",
       "    </tr>\n",
       "    <tr>\n",
       "      <th>27</th>\n",
       "      <td>R04_111_114</td>\n",
       "      <td>0.114188</td>\n",
       "    </tr>\n",
       "    <tr>\n",
       "      <th>28</th>\n",
       "      <td>R04_103_115</td>\n",
       "      <td>0.470240</td>\n",
       "    </tr>\n",
       "    <tr>\n",
       "      <th>29</th>\n",
       "      <td>R04_104_105</td>\n",
       "      <td>0.269382</td>\n",
       "    </tr>\n",
       "    <tr>\n",
       "      <th>...</th>\n",
       "      <td>...</td>\n",
       "      <td>...</td>\n",
       "    </tr>\n",
       "    <tr>\n",
       "      <th>167</th>\n",
       "      <td>R20_108_114</td>\n",
       "      <td>0.121773</td>\n",
       "    </tr>\n",
       "    <tr>\n",
       "      <th>168</th>\n",
       "      <td>R20_106_117</td>\n",
       "      <td>0.444898</td>\n",
       "    </tr>\n",
       "    <tr>\n",
       "      <th>169</th>\n",
       "      <td>R20_111_118</td>\n",
       "      <td>0.111591</td>\n",
       "    </tr>\n",
       "    <tr>\n",
       "      <th>170</th>\n",
       "      <td>R21_110_113</td>\n",
       "      <td>0.587864</td>\n",
       "    </tr>\n",
       "    <tr>\n",
       "      <th>171</th>\n",
       "      <td>R21_104_114</td>\n",
       "      <td>0.266431</td>\n",
       "    </tr>\n",
       "    <tr>\n",
       "      <th>172</th>\n",
       "      <td>R21_109_116</td>\n",
       "      <td>0.171258</td>\n",
       "    </tr>\n",
       "    <tr>\n",
       "      <th>173</th>\n",
       "      <td>R21_105_108</td>\n",
       "      <td>0.282068</td>\n",
       "    </tr>\n",
       "    <tr>\n",
       "      <th>174</th>\n",
       "      <td>R21_101_102</td>\n",
       "      <td>0.745129</td>\n",
       "    </tr>\n",
       "    <tr>\n",
       "      <th>175</th>\n",
       "      <td>R21_107_115</td>\n",
       "      <td>0.698201</td>\n",
       "    </tr>\n",
       "    <tr>\n",
       "      <th>176</th>\n",
       "      <td>R21_106_112</td>\n",
       "      <td>0.262508</td>\n",
       "    </tr>\n",
       "    <tr>\n",
       "      <th>177</th>\n",
       "      <td>R21_117_118</td>\n",
       "      <td>0.619550</td>\n",
       "    </tr>\n",
       "    <tr>\n",
       "      <th>178</th>\n",
       "      <td>R21_103_111</td>\n",
       "      <td>0.458448</td>\n",
       "    </tr>\n",
       "    <tr>\n",
       "      <th>179</th>\n",
       "      <td>R22_104_107</td>\n",
       "      <td>0.127445</td>\n",
       "    </tr>\n",
       "    <tr>\n",
       "      <th>180</th>\n",
       "      <td>R22_103_109</td>\n",
       "      <td>0.120739</td>\n",
       "    </tr>\n",
       "    <tr>\n",
       "      <th>181</th>\n",
       "      <td>R22_102_110</td>\n",
       "      <td>0.074088</td>\n",
       "    </tr>\n",
       "    <tr>\n",
       "      <th>182</th>\n",
       "      <td>R22_112_118</td>\n",
       "      <td>0.406109</td>\n",
       "    </tr>\n",
       "    <tr>\n",
       "      <th>183</th>\n",
       "      <td>R22_108_113</td>\n",
       "      <td>0.152658</td>\n",
       "    </tr>\n",
       "    <tr>\n",
       "      <th>184</th>\n",
       "      <td>R22_105_114</td>\n",
       "      <td>0.136059</td>\n",
       "    </tr>\n",
       "    <tr>\n",
       "      <th>185</th>\n",
       "      <td>R22_101_117</td>\n",
       "      <td>0.271110</td>\n",
       "    </tr>\n",
       "    <tr>\n",
       "      <th>186</th>\n",
       "      <td>R22_106_111</td>\n",
       "      <td>0.677457</td>\n",
       "    </tr>\n",
       "    <tr>\n",
       "      <th>187</th>\n",
       "      <td>R22_115_116</td>\n",
       "      <td>0.074226</td>\n",
       "    </tr>\n",
       "    <tr>\n",
       "      <th>188</th>\n",
       "      <td>R23_112_114</td>\n",
       "      <td>0.166610</td>\n",
       "    </tr>\n",
       "    <tr>\n",
       "      <th>189</th>\n",
       "      <td>R23_101_107</td>\n",
       "      <td>0.149714</td>\n",
       "    </tr>\n",
       "    <tr>\n",
       "      <th>190</th>\n",
       "      <td>R23_102_118</td>\n",
       "      <td>0.171976</td>\n",
       "    </tr>\n",
       "    <tr>\n",
       "      <th>191</th>\n",
       "      <td>R23_106_113</td>\n",
       "      <td>0.225413</td>\n",
       "    </tr>\n",
       "    <tr>\n",
       "      <th>192</th>\n",
       "      <td>R23_103_110</td>\n",
       "      <td>0.082706</td>\n",
       "    </tr>\n",
       "    <tr>\n",
       "      <th>193</th>\n",
       "      <td>R23_115_117</td>\n",
       "      <td>0.072831</td>\n",
       "    </tr>\n",
       "    <tr>\n",
       "      <th>194</th>\n",
       "      <td>R23_108_116</td>\n",
       "      <td>0.093261</td>\n",
       "    </tr>\n",
       "    <tr>\n",
       "      <th>195</th>\n",
       "      <td>R23_109_111</td>\n",
       "      <td>0.340425</td>\n",
       "    </tr>\n",
       "    <tr>\n",
       "      <th>196</th>\n",
       "      <td>R23_104_105</td>\n",
       "      <td>0.202474</td>\n",
       "    </tr>\n",
       "  </tbody>\n",
       "</table>\n",
       "<p>197 rows × 2 columns</p>\n",
       "</div>"
      ],
      "text/plain": [
       "             rid      prob\n",
       "0    R01_103_114  0.270309\n",
       "1    R01_108_111  0.359224\n",
       "2    R01_105_116  0.120215\n",
       "3    R01_102_104  0.287823\n",
       "4    R01_117_118  0.539268\n",
       "5    R01_109_115  0.644048\n",
       "6    R01_101_112  0.518249\n",
       "7    R01_106_113  0.587261\n",
       "8    R01_107_110  0.175839\n",
       "9    R02_103_117  0.137694\n",
       "10   R02_114_118  0.315115\n",
       "11   R02_109_111  0.608820\n",
       "12   R02_101_104  0.428109\n",
       "13   R02_113_116  0.139773\n",
       "14   R02_108_115  0.535203\n",
       "15   R02_106_107  0.291323\n",
       "16   R02_105_110  0.136928\n",
       "17   R02_102_112  0.118377\n",
       "18   R03_104_115  0.746310\n",
       "19   R03_101_111  0.736841\n",
       "20   R03_103_105  0.189439\n",
       "21   R03_109_116  0.113200\n",
       "22   R03_112_113  0.402098\n",
       "23   R03_102_114  0.158309\n",
       "24   R03_110_118  0.706449\n",
       "25   R03_106_117  0.376426\n",
       "26   R03_107_108  0.810485\n",
       "27   R04_111_114  0.114188\n",
       "28   R04_103_115  0.470240\n",
       "29   R04_104_105  0.269382\n",
       "..           ...       ...\n",
       "167  R20_108_114  0.121773\n",
       "168  R20_106_117  0.444898\n",
       "169  R20_111_118  0.111591\n",
       "170  R21_110_113  0.587864\n",
       "171  R21_104_114  0.266431\n",
       "172  R21_109_116  0.171258\n",
       "173  R21_105_108  0.282068\n",
       "174  R21_101_102  0.745129\n",
       "175  R21_107_115  0.698201\n",
       "176  R21_106_112  0.262508\n",
       "177  R21_117_118  0.619550\n",
       "178  R21_103_111  0.458448\n",
       "179  R22_104_107  0.127445\n",
       "180  R22_103_109  0.120739\n",
       "181  R22_102_110  0.074088\n",
       "182  R22_112_118  0.406109\n",
       "183  R22_108_113  0.152658\n",
       "184  R22_105_114  0.136059\n",
       "185  R22_101_117  0.271110\n",
       "186  R22_106_111  0.677457\n",
       "187  R22_115_116  0.074226\n",
       "188  R23_112_114  0.166610\n",
       "189  R23_101_107  0.149714\n",
       "190  R23_102_118  0.171976\n",
       "191  R23_106_113  0.225413\n",
       "192  R23_103_110  0.082706\n",
       "193  R23_115_117  0.072831\n",
       "194  R23_108_116  0.093261\n",
       "195  R23_109_111  0.340425\n",
       "196  R23_104_105  0.202474\n",
       "\n",
       "[197 rows x 2 columns]"
      ]
     },
     "execution_count": 309,
     "metadata": {},
     "output_type": "execute_result"
    }
   ],
   "source": [
    "df_submission"
   ]
  },
  {
   "cell_type": "code",
   "execution_count": 310,
   "metadata": {
    "collapsed": true
   },
   "outputs": [],
   "source": [
    "df_submission.to_csv(\"sportsbet_submission_doupe.csv\", index=False)"
   ]
  },
  {
   "cell_type": "code",
   "execution_count": null,
   "metadata": {
    "collapsed": true
   },
   "outputs": [],
   "source": []
  }
 ],
 "metadata": {
  "kernelspec": {
   "display_name": "Python 2",
   "language": "python",
   "name": "python2"
  },
  "language_info": {
   "codemirror_mode": {
    "name": "ipython",
    "version": 2
   },
   "file_extension": ".py",
   "mimetype": "text/x-python",
   "name": "python",
   "nbconvert_exporter": "python",
   "pygments_lexer": "ipython2",
   "version": "2.7.10"
  }
 },
 "nbformat": 4,
 "nbformat_minor": 0
}

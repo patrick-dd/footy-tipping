{
 "cells": [
  {
   "cell_type": "markdown",
   "metadata": {},
   "source": [
    "#Footy tipping! \n",
    "\n",
    "Trying to predict a whole season's games!\n",
    "\n",
    "Some prediction\n",
    "Order of things:\n",
    "- Logistic regression\n",
    "- SVM\n",
    "- Neural network"
   ]
  },
  {
   "cell_type": "code",
   "execution_count": 10,
   "metadata": {
    "collapsed": true
   },
   "outputs": [],
   "source": [
    "%matplotlib inline\n",
    "from IPython.display import Image\n",
    "import matplotlib.pyplot as plt\n",
    "import statsmodels.formula.api as sm\n",
    "import numpy as np\n",
    "import pandas as pd\n",
    "from sklearn.linear_model import LogisticRegression\n",
    "from sklearn import svm, tree\n",
    "from scipy.optimize import minimize"
   ]
  },
  {
   "cell_type": "code",
   "execution_count": 28,
   "metadata": {
    "collapsed": false
   },
   "outputs": [],
   "source": [
    "df_train = pd.read_pickle('afl_train_full_season.pkl')\n",
    "df_train = df_train[df_train['season']>=2005]\n",
    "X_train = df_train.drop(['mid', 'win_tid', 'tid1_points', 'tid2_points', 'h_tid', 'h_score', 'a_tid', 'a_score', 'margin', 'tid1_score', 'tid2_score', 'prob'], axis=1)\n",
    "y_train = df_train['prob']"
   ]
  },
  {
   "cell_type": "code",
   "execution_count": 29,
   "metadata": {
    "collapsed": false
   },
   "outputs": [],
   "source": [
    "df_cv = pd.read_pickle('afl_cval_full_season.pkl')\n",
    "X_cv = df_cv.drop(['mid', 'win_tid', 'tid1_points', 'tid2_points', 'h_tid', 'h_score', 'a_tid', 'a_score', 'margin', 'tid1_score', 'tid2_score', 'prob'], axis=1)\n",
    "y_cv = df_cv['prob']"
   ]
  },
  {
   "cell_type": "code",
   "execution_count": 30,
   "metadata": {
    "collapsed": false
   },
   "outputs": [
    {
     "data": {
      "text/html": [
       "<div>\n",
       "<table border=\"1\" class=\"dataframe\">\n",
       "  <thead>\n",
       "    <tr style=\"text-align: right;\">\n",
       "      <th></th>\n",
       "      <th>season</th>\n",
       "      <th>round</th>\n",
       "      <th>tid1_last_season_percentage</th>\n",
       "      <th>tid2_last_season_percentage</th>\n",
       "      <th>tid1_last_season_win_ratio</th>\n",
       "      <th>tid2_last_season_win_ratio</th>\n",
       "      <th>tid1_101</th>\n",
       "      <th>tid1_102</th>\n",
       "      <th>tid1_103</th>\n",
       "      <th>tid1_104</th>\n",
       "      <th>...</th>\n",
       "      <th>tid2_111</th>\n",
       "      <th>tid2_112</th>\n",
       "      <th>tid2_113</th>\n",
       "      <th>tid2_114</th>\n",
       "      <th>tid2_115</th>\n",
       "      <th>tid2_116</th>\n",
       "      <th>tid2_117</th>\n",
       "      <th>tid2_118</th>\n",
       "      <th>tid1_loc_a</th>\n",
       "      <th>tid1_loc_h</th>\n",
       "    </tr>\n",
       "  </thead>\n",
       "  <tbody>\n",
       "    <tr>\n",
       "      <th>880</th>\n",
       "      <td>2005</td>\n",
       "      <td>1</td>\n",
       "      <td>1.372406</td>\n",
       "      <td>1.279728</td>\n",
       "      <td>0.727273</td>\n",
       "      <td>0.727273</td>\n",
       "      <td>0</td>\n",
       "      <td>1</td>\n",
       "      <td>0</td>\n",
       "      <td>0</td>\n",
       "      <td>...</td>\n",
       "      <td>0</td>\n",
       "      <td>0</td>\n",
       "      <td>0</td>\n",
       "      <td>0</td>\n",
       "      <td>1</td>\n",
       "      <td>0</td>\n",
       "      <td>0</td>\n",
       "      <td>0</td>\n",
       "      <td>0</td>\n",
       "      <td>1</td>\n",
       "    </tr>\n",
       "    <tr>\n",
       "      <th>881</th>\n",
       "      <td>2005</td>\n",
       "      <td>1</td>\n",
       "      <td>0.816555</td>\n",
       "      <td>1.003279</td>\n",
       "      <td>0.454545</td>\n",
       "      <td>0.454545</td>\n",
       "      <td>0</td>\n",
       "      <td>0</td>\n",
       "      <td>1</td>\n",
       "      <td>0</td>\n",
       "      <td>...</td>\n",
       "      <td>0</td>\n",
       "      <td>1</td>\n",
       "      <td>0</td>\n",
       "      <td>0</td>\n",
       "      <td>0</td>\n",
       "      <td>0</td>\n",
       "      <td>0</td>\n",
       "      <td>0</td>\n",
       "      <td>1</td>\n",
       "      <td>0</td>\n",
       "    </tr>\n",
       "    <tr>\n",
       "      <th>882</th>\n",
       "      <td>2005</td>\n",
       "      <td>1</td>\n",
       "      <td>1.024237</td>\n",
       "      <td>1.119474</td>\n",
       "      <td>0.545455</td>\n",
       "      <td>0.636364</td>\n",
       "      <td>0</td>\n",
       "      <td>0</td>\n",
       "      <td>0</td>\n",
       "      <td>0</td>\n",
       "      <td>...</td>\n",
       "      <td>1</td>\n",
       "      <td>0</td>\n",
       "      <td>0</td>\n",
       "      <td>0</td>\n",
       "      <td>0</td>\n",
       "      <td>0</td>\n",
       "      <td>0</td>\n",
       "      <td>0</td>\n",
       "      <td>1</td>\n",
       "      <td>0</td>\n",
       "    </tr>\n",
       "    <tr>\n",
       "      <th>883</th>\n",
       "      <td>2005</td>\n",
       "      <td>1</td>\n",
       "      <td>1.006417</td>\n",
       "      <td>1.323642</td>\n",
       "      <td>0.500000</td>\n",
       "      <td>0.772727</td>\n",
       "      <td>0</td>\n",
       "      <td>0</td>\n",
       "      <td>0</td>\n",
       "      <td>0</td>\n",
       "      <td>...</td>\n",
       "      <td>0</td>\n",
       "      <td>0</td>\n",
       "      <td>1</td>\n",
       "      <td>0</td>\n",
       "      <td>0</td>\n",
       "      <td>0</td>\n",
       "      <td>0</td>\n",
       "      <td>0</td>\n",
       "      <td>0</td>\n",
       "      <td>1</td>\n",
       "    </tr>\n",
       "    <tr>\n",
       "      <th>884</th>\n",
       "      <td>2005</td>\n",
       "      <td>1</td>\n",
       "      <td>0.702316</td>\n",
       "      <td>1.074279</td>\n",
       "      <td>0.181818</td>\n",
       "      <td>0.590909</td>\n",
       "      <td>0</td>\n",
       "      <td>0</td>\n",
       "      <td>0</td>\n",
       "      <td>0</td>\n",
       "      <td>...</td>\n",
       "      <td>0</td>\n",
       "      <td>0</td>\n",
       "      <td>0</td>\n",
       "      <td>0</td>\n",
       "      <td>0</td>\n",
       "      <td>1</td>\n",
       "      <td>0</td>\n",
       "      <td>0</td>\n",
       "      <td>1</td>\n",
       "      <td>0</td>\n",
       "    </tr>\n",
       "  </tbody>\n",
       "</table>\n",
       "<p>5 rows × 42 columns</p>\n",
       "</div>"
      ],
      "text/plain": [
       "     season  round  tid1_last_season_percentage  tid2_last_season_percentage  \\\n",
       "880    2005      1                     1.372406                     1.279728   \n",
       "881    2005      1                     0.816555                     1.003279   \n",
       "882    2005      1                     1.024237                     1.119474   \n",
       "883    2005      1                     1.006417                     1.323642   \n",
       "884    2005      1                     0.702316                     1.074279   \n",
       "\n",
       "     tid1_last_season_win_ratio  tid2_last_season_win_ratio  tid1_101  \\\n",
       "880                    0.727273                    0.727273         0   \n",
       "881                    0.454545                    0.454545         0   \n",
       "882                    0.545455                    0.636364         0   \n",
       "883                    0.500000                    0.772727         0   \n",
       "884                    0.181818                    0.590909         0   \n",
       "\n",
       "     tid1_102  tid1_103  tid1_104     ...      tid2_111  tid2_112  tid2_113  \\\n",
       "880         1         0         0     ...             0         0         0   \n",
       "881         0         1         0     ...             0         1         0   \n",
       "882         0         0         0     ...             1         0         0   \n",
       "883         0         0         0     ...             0         0         1   \n",
       "884         0         0         0     ...             0         0         0   \n",
       "\n",
       "     tid2_114  tid2_115  tid2_116  tid2_117  tid2_118  tid1_loc_a  tid1_loc_h  \n",
       "880         0         1         0         0         0           0           1  \n",
       "881         0         0         0         0         0           1           0  \n",
       "882         0         0         0         0         0           1           0  \n",
       "883         0         0         0         0         0           0           1  \n",
       "884         0         0         1         0         0           1           0  \n",
       "\n",
       "[5 rows x 42 columns]"
      ]
     },
     "execution_count": 30,
     "metadata": {},
     "output_type": "execute_result"
    }
   ],
   "source": [
    "X_train.head()"
   ]
  },
  {
   "cell_type": "markdown",
   "metadata": {},
   "source": [
    "### the error function\n",
    "\n",
    "$\\textrm{Score} = - \\frac{1}{n} \\sum_{i=1}^n \\left[ y_i \\log(\\hat{y}_i) + (1 - y_i) \\log(1 - \\hat{y}_i)\\right]$"
   ]
  },
  {
   "cell_type": "code",
   "execution_count": 31,
   "metadata": {
    "collapsed": true
   },
   "outputs": [],
   "source": [
    "def error_function(predicted, actual):\n",
    "    \"\"\"\n",
    "    Computes the error function given error probabilities (predicted)\n",
    "    and actual win loss\n",
    "    \"\"\"\n",
    "    a = actual * np.log(predicted) \n",
    "    b = (1 - actual) * np.log(1-predicted)\n",
    "    n = float(len(a))\n",
    "    return - (sum(a) + sum(b)) / n"
   ]
  },
  {
   "cell_type": "markdown",
   "metadata": {},
   "source": [
    "###SVM time"
   ]
  },
  {
   "cell_type": "code",
   "execution_count": 32,
   "metadata": {
    "collapsed": false
   },
   "outputs": [
    {
     "data": {
      "text/plain": [
       "0.57492759477559618"
      ]
     },
     "execution_count": 32,
     "metadata": {},
     "output_type": "execute_result"
    }
   ],
   "source": [
    "clf = svm.SVC(kernel='rbf', probability = True)\n",
    "clf.fit(X_train, y_train)\n",
    "pred = clf.predict_proba(X_train)[:,1]\n",
    "error_function(pred, y_train)"
   ]
  },
  {
   "cell_type": "code",
   "execution_count": 33,
   "metadata": {
    "collapsed": false
   },
   "outputs": [
    {
     "data": {
      "text/plain": [
       "0.54762268414208193"
      ]
     },
     "execution_count": 33,
     "metadata": {},
     "output_type": "execute_result"
    }
   ],
   "source": [
    "pred = clf.predict_proba(X_cv)[:,1]\n",
    "error_function(pred, y_cv)"
   ]
  },
  {
   "cell_type": "markdown",
   "metadata": {},
   "source": [
    "###Logistic regression time."
   ]
  },
  {
   "cell_type": "code",
   "execution_count": 34,
   "metadata": {
    "collapsed": false
   },
   "outputs": [
    {
     "data": {
      "text/plain": [
       "0.59946309721299007"
      ]
     },
     "execution_count": 34,
     "metadata": {},
     "output_type": "execute_result"
    }
   ],
   "source": [
    "log_reg = LogisticRegression(C=0.1)\n",
    "pred_log = log_reg.fit(X_train, y_train)\n",
    "pred = pred_log.predict_proba(X_train)[:,1]\n",
    "error_function(pred, y_train)"
   ]
  },
  {
   "cell_type": "code",
   "execution_count": 35,
   "metadata": {
    "collapsed": false
   },
   "outputs": [
    {
     "data": {
      "text/plain": [
       "0.56494989856330213"
      ]
     },
     "execution_count": 35,
     "metadata": {},
     "output_type": "execute_result"
    }
   ],
   "source": [
    "pred = pred_log.predict_proba(X_cv)[:,1]\n",
    "error_function(pred, y_cv)"
   ]
  },
  {
   "cell_type": "markdown",
   "metadata": {},
   "source": [
    "###Decision trees"
   ]
  },
  {
   "cell_type": "code",
   "execution_count": 36,
   "metadata": {
    "collapsed": false
   },
   "outputs": [
    {
     "data": {
      "text/plain": [
       "array([[-inf,   0.],\n",
       "       [  0., -inf],\n",
       "       [  0., -inf],\n",
       "       ..., \n",
       "       [  0., -inf],\n",
       "       [  0., -inf],\n",
       "       [-inf,   0.]])"
      ]
     },
     "execution_count": 36,
     "metadata": {},
     "output_type": "execute_result"
    }
   ],
   "source": [
    "clf = tree.DecisionTreeClassifier()\n",
    "clf.fit(X_train, y_train)\n",
    "clf.predict_log_proba(X_train)"
   ]
  },
  {
   "cell_type": "markdown",
   "metadata": {},
   "source": [
    "Gaussian stuff"
   ]
  },
  {
   "cell_type": "code",
   "execution_count": 37,
   "metadata": {
    "collapsed": false
   },
   "outputs": [
    {
     "data": {
      "text/plain": [
       "0.59946309721299007"
      ]
     },
     "execution_count": 37,
     "metadata": {},
     "output_type": "execute_result"
    }
   ],
   "source": [
    "from sklearn.naive_bayes import GaussianNB\n",
    "clf = GaussianNB()\n",
    "clf.fit(X_train, y_train)\n",
    "pred = pred_log.predict_proba(X_train)[:,1]\n",
    "error_function(pred, y_train)"
   ]
  },
  {
   "cell_type": "code",
   "execution_count": 38,
   "metadata": {
    "collapsed": false
   },
   "outputs": [],
   "source": [
    "pred = clf.predict_proba(X_cv)[:,1]"
   ]
  },
  {
   "cell_type": "code",
   "execution_count": 39,
   "metadata": {
    "collapsed": false
   },
   "outputs": [
    {
     "data": {
      "text/plain": [
       "0.66161616161616166"
      ]
     },
     "execution_count": 39,
     "metadata": {},
     "output_type": "execute_result"
    }
   ],
   "source": [
    "clf.score(X_cv, y_cv)"
   ]
  },
  {
   "cell_type": "code",
   "execution_count": null,
   "metadata": {
    "collapsed": true
   },
   "outputs": [],
   "source": []
  },
  {
   "cell_type": "code",
   "execution_count": null,
   "metadata": {
    "collapsed": true
   },
   "outputs": [],
   "source": []
  }
 ],
 "metadata": {
  "kernelspec": {
   "display_name": "Python 2",
   "language": "python",
   "name": "python2"
  },
  "language_info": {
   "codemirror_mode": {
    "name": "ipython",
    "version": 2
   },
   "file_extension": ".py",
   "mimetype": "text/x-python",
   "name": "python",
   "nbconvert_exporter": "python",
   "pygments_lexer": "ipython2",
   "version": "2.7.10"
  }
 },
 "nbformat": 4,
 "nbformat_minor": 0
}

{
 "cells": [
  {
   "cell_type": "markdown",
   "metadata": {},
   "source": [
    "#Footy tipping! \n",
    "\n",
    "Predicting a whole season's games"
   ]
  },
  {
   "cell_type": "code",
   "execution_count": 1,
   "metadata": {
    "collapsed": true
   },
   "outputs": [],
   "source": [
    "%matplotlib inline\n",
    "from IPython.display import Image\n",
    "import matplotlib.pyplot as plt\n",
    "import statsmodels.formula.api as sm\n",
    "import numpy as np\n",
    "import pandas as pd\n",
    "from sklearn.linear_model import LogisticRegression\n",
    "from sklearn import svm, tree, ensemble\n",
    "from sklearn.naive_bayes import GaussianNB\n",
    "from scipy.optimize import minimize"
   ]
  },
  {
   "cell_type": "code",
   "execution_count": 2,
   "metadata": {
    "collapsed": false
   },
   "outputs": [],
   "source": [
    "df_train = pd.read_pickle('afl_train_full_season.pkl')\n",
    "df_train = df_train[df_train['season']>=2001]\n",
    "X_train = df_train.drop(['mid', 'win_tid', 'tid1_points', 'tid2_points', \n",
    "                         'h_tid', 'h_score', 'a_tid', 'a_score', 'margin', \n",
    "                         'tid1_score', 'tid2_score', 'prob'], axis=1)\n",
    "y_train = df_train['prob']"
   ]
  },
  {
   "cell_type": "code",
   "execution_count": 3,
   "metadata": {
    "collapsed": false
   },
   "outputs": [],
   "source": [
    "df_cv = pd.read_pickle('afl_cval_full_season.pkl')\n",
    "X_cv = df_cv.drop(['mid', 'win_tid', 'tid1_points', 'tid2_points', 'h_tid', \n",
    "                   'h_score', 'a_tid', 'a_score', 'margin', 'tid1_score', \n",
    "                   'tid2_score', 'prob'], axis=1)\n",
    "y_cv = df_cv['prob']"
   ]
  },
  {
   "cell_type": "code",
   "execution_count": 4,
   "metadata": {
    "collapsed": true
   },
   "outputs": [],
   "source": [
    "df_test = pd.read_pickle('afl_test_full_season.pkl')\n",
    "X_test = df_test.drop(['mid', 'win_tid', 'tid1_points', 'tid2_points', \n",
    "                       'h_tid', 'h_score', 'a_tid', 'a_score', 'margin', \n",
    "                       'tid1_score', 'tid2_score', 'prob'], axis=1)\n",
    "y_test = df_test['prob']"
   ]
  },
  {
   "cell_type": "markdown",
   "metadata": {},
   "source": [
    "### the error function\n",
    "\n",
    "$\\textrm{Score} = - \\frac{1}{n} \\sum_{i=1}^n \\left[ y_i \\log(\\hat{y}_i) + (1 - y_i) \\log(1 - \\hat{y}_i)\\right]$"
   ]
  },
  {
   "cell_type": "code",
   "execution_count": 5,
   "metadata": {
    "collapsed": true
   },
   "outputs": [],
   "source": [
    "def error_function(predicted, actual):\n",
    "    \"\"\"\n",
    "    Computes the error function given error probabilities (predicted)\n",
    "    and actual win loss\n",
    "    \"\"\"\n",
    "    a = actual * np.log(predicted) \n",
    "    b = (1 - actual) * np.log(1-predicted)\n",
    "    n = float(len(a))\n",
    "    return - (sum(a) + sum(b)) / n"
   ]
  },
  {
   "cell_type": "markdown",
   "metadata": {},
   "source": [
    "# Collecting predictions for stacking model\n",
    "\n",
    "Plan: Logistic regression stacking of a bunch of models\n",
    "+ SVM\n",
    "+ Logistic regression\n",
    "+ Decision trees\n",
    "+ Gradient boosting\n"
   ]
  },
  {
   "cell_type": "markdown",
   "metadata": {},
   "source": [
    "###1 a) SVM\n",
    "Using Radial Basis Functions"
   ]
  },
  {
   "cell_type": "code",
   "execution_count": 6,
   "metadata": {
    "collapsed": false
   },
   "outputs": [],
   "source": [
    "clf_1a = svm.SVC(kernel='rbf', probability = True, C=1)\n",
    "clf_1a.fit(X_train, y_train)\n",
    "pred_prob_1a = clf_1a.predict_proba(X_train)[:,1]\n",
    "pred_1a = clf_1a.predict(X_train)\n",
    "e_1a = error_function(pred_prob_1a, y_train)"
   ]
  },
  {
   "cell_type": "code",
   "execution_count": 7,
   "metadata": {
    "collapsed": false
   },
   "outputs": [
    {
     "data": {
      "text/plain": [
       "0.60331954558542222"
      ]
     },
     "execution_count": 7,
     "metadata": {},
     "output_type": "execute_result"
    }
   ],
   "source": [
    "pred_prob_1a_cv = clf_1a.predict_proba(X_cv)[:,1]\n",
    "pred_1a_cv = clf_1a.predict(X_cv)\n",
    "e_1a_cv = error_function(pred_prob_1a_cv, y_cv)\n",
    "e_1a_cv"
   ]
  },
  {
   "cell_type": "code",
   "execution_count": 8,
   "metadata": {
    "collapsed": false
   },
   "outputs": [],
   "source": [
    "pred_prob_1a_test = clf_1a.predict_proba(X_test)[:,1]\n",
    "pred_1a_test = clf_1a.predict(X_test)"
   ]
  },
  {
   "cell_type": "markdown",
   "metadata": {},
   "source": [
    "### 1 b) SVM\n",
    "Using sigmoid kernel"
   ]
  },
  {
   "cell_type": "code",
   "execution_count": 9,
   "metadata": {
    "collapsed": false
   },
   "outputs": [],
   "source": [
    "clf_1b = svm.SVC(kernel='linear', probability = True, C=1)\n",
    "clf_1b.fit(X_train, y_train)\n",
    "pred_prob_1b = clf_1b.predict_proba(X_train)[:,1]\n",
    "pred_1b = clf_1b.predict(X_train)\n",
    "e_1b = error_function(pred_prob_1b, y_train)"
   ]
  },
  {
   "cell_type": "code",
   "execution_count": 10,
   "metadata": {
    "collapsed": false
   },
   "outputs": [
    {
     "data": {
      "text/plain": [
       "0.63971137356905983"
      ]
     },
     "execution_count": 10,
     "metadata": {},
     "output_type": "execute_result"
    }
   ],
   "source": [
    "pred_prob_1b_cv = clf_1b.predict_proba(X_cv)[:,1]\n",
    "pred_1b_cv = clf_1b.predict(X_cv)\n",
    "e_1b_cv = error_function(pred_prob_1b_cv, y_cv)\n",
    "e_1b_cv"
   ]
  },
  {
   "cell_type": "code",
   "execution_count": 11,
   "metadata": {
    "collapsed": false
   },
   "outputs": [],
   "source": [
    "pred_prob_1b_test = clf_1b.predict_proba(X_test)[:,1]\n",
    "pred_1b_test = clf_1b.predict(X_test)"
   ]
  },
  {
   "cell_type": "markdown",
   "metadata": {},
   "source": [
    "###1 c) SVM\n",
    "Using polynomial kernel"
   ]
  },
  {
   "cell_type": "code",
   "execution_count": 12,
   "metadata": {
    "collapsed": false
   },
   "outputs": [],
   "source": [
    "clf_1c = svm.SVC(kernel='poly', probability = True, C=1)\n",
    "clf_1c.fit(X_train, y_train)\n",
    "pred_prob_1c = clf_1c.predict_proba(X_train)[:,1]\n",
    "pred_1c = clf_1c.predict(X_train)\n",
    "e_1c = error_function(pred_prob_1c, y_train)"
   ]
  },
  {
   "cell_type": "code",
   "execution_count": 13,
   "metadata": {
    "collapsed": false
   },
   "outputs": [
    {
     "data": {
      "text/plain": [
       "0.62993112115170669"
      ]
     },
     "execution_count": 13,
     "metadata": {},
     "output_type": "execute_result"
    }
   ],
   "source": [
    "pred_prob_1c_cv = clf_1c.predict_proba(X_cv)[:,1]\n",
    "pred_1c_cv = clf_1c.predict(X_cv)\n",
    "e_1c_cv = error_function(pred_prob_1c_cv, y_cv)\n",
    "e_1c_cv"
   ]
  },
  {
   "cell_type": "code",
   "execution_count": 14,
   "metadata": {
    "collapsed": false
   },
   "outputs": [],
   "source": [
    "pred_prob_1c_test = clf_1c.predict_proba(X_test)[:,1]\n",
    "pred_1c_test = clf_1c.predict(X_test)"
   ]
  },
  {
   "cell_type": "markdown",
   "metadata": {},
   "source": [
    "###2. Logistic regression"
   ]
  },
  {
   "cell_type": "code",
   "execution_count": 15,
   "metadata": {
    "collapsed": false
   },
   "outputs": [],
   "source": [
    "clf_2 = LogisticRegression()\n",
    "clf_2.fit(X_train, y_train)\n",
    "pred_prob_2 = clf_2.predict_proba(X_train)[:,1]\n",
    "pred_2 = clf_2.predict(X_train)\n",
    "e_2 = error_function(pred_prob_2, y_train)"
   ]
  },
  {
   "cell_type": "code",
   "execution_count": 16,
   "metadata": {
    "collapsed": false
   },
   "outputs": [
    {
     "data": {
      "text/plain": [
       "0.62252653755696608"
      ]
     },
     "execution_count": 16,
     "metadata": {},
     "output_type": "execute_result"
    }
   ],
   "source": [
    "pred_prob_2_cv = clf_2.predict_proba(X_cv)[:,1]\n",
    "pred_2_cv = clf_2.predict(X_cv)\n",
    "e_2_cv = error_function(pred_prob_2_cv, y_cv)\n",
    "e_2_cv"
   ]
  },
  {
   "cell_type": "code",
   "execution_count": 17,
   "metadata": {
    "collapsed": true
   },
   "outputs": [],
   "source": [
    "pred_prob_2_test = clf_2.predict_proba(X_test)[:,1]\n",
    "pred_2_test = clf_2.predict(X_test)"
   ]
  },
  {
   "cell_type": "markdown",
   "metadata": {},
   "source": [
    "###3. Decision trees\n",
    "**3 a) Gini criterion for tree split**"
   ]
  },
  {
   "cell_type": "code",
   "execution_count": 18,
   "metadata": {
    "collapsed": false
   },
   "outputs": [],
   "source": [
    "clf_3a = tree.DecisionTreeClassifier(criterion=\"gini\", max_depth=3)\n",
    "clf_3a.fit(X_train, y_train)\n",
    "pred_prob_3a = clf_3a.predict_proba(X_train)[:,1]\n",
    "pred_3a = clf_3a.predict(X_train)\n",
    "e_3a = error_function(pred_prob_3a, y_train)"
   ]
  },
  {
   "cell_type": "code",
   "execution_count": 19,
   "metadata": {
    "collapsed": false
   },
   "outputs": [
    {
     "data": {
      "text/plain": [
       "0.64884466569673893"
      ]
     },
     "execution_count": 19,
     "metadata": {},
     "output_type": "execute_result"
    }
   ],
   "source": [
    "pred_prob_3a_cv = clf_3a.predict_proba(X_cv)[:,1]\n",
    "pred_3a_cv = clf_3a.predict(X_cv)\n",
    "e_3a_cv = error_function(pred_prob_3a_cv, y_cv)\n",
    "e_3a_cv"
   ]
  },
  {
   "cell_type": "code",
   "execution_count": 20,
   "metadata": {
    "collapsed": true
   },
   "outputs": [],
   "source": [
    "pred_prob_3a_test = clf_3a.predict_proba(X_test)[:,1]\n",
    "pred_3a_test = clf_3a.predict(X_test)"
   ]
  },
  {
   "cell_type": "markdown",
   "metadata": {},
   "source": [
    "** 3 b) Entropy criterion for tree split**"
   ]
  },
  {
   "cell_type": "code",
   "execution_count": 21,
   "metadata": {
    "collapsed": false
   },
   "outputs": [],
   "source": [
    "clf_3b = tree.DecisionTreeClassifier(criterion=\"entropy\", max_depth=2)\n",
    "clf_3b.fit(X_train, y_train)\n",
    "pred_prob_3b = clf_3b.predict_proba(X_train)[:,1]\n",
    "pred_3b = clf_3b.predict(X_train)\n",
    "e_3b = error_function(pred_prob_3b, y_train)"
   ]
  },
  {
   "cell_type": "code",
   "execution_count": 22,
   "metadata": {
    "collapsed": false
   },
   "outputs": [
    {
     "data": {
      "text/plain": [
       "0.65708510890766691"
      ]
     },
     "execution_count": 22,
     "metadata": {},
     "output_type": "execute_result"
    }
   ],
   "source": [
    "pred_prob_3b_cv = clf_3b.predict_proba(X_cv)[:,1]\n",
    "pred_3b_cv = clf_3b.predict(X_cv)\n",
    "e_3b_cv = error_function(pred_prob_3b_cv, y_cv)\n",
    "e_3b_cv"
   ]
  },
  {
   "cell_type": "code",
   "execution_count": 23,
   "metadata": {
    "collapsed": true
   },
   "outputs": [],
   "source": [
    "pred_prob_3b_test = clf_3b.predict_proba(X_test)[:,1]\n",
    "pred_3b_test = clf_3b.predict(X_test)"
   ]
  },
  {
   "cell_type": "markdown",
   "metadata": {},
   "source": [
    "**3 c) Random tree classifier, Gini criterion**"
   ]
  },
  {
   "cell_type": "code",
   "execution_count": 24,
   "metadata": {
    "collapsed": false
   },
   "outputs": [],
   "source": [
    "np.random.seed(96)\n",
    "clf_3c = tree.ExtraTreeClassifier(criterion=\"gini\", max_depth=2)\n",
    "clf_3c.fit(X_train, y_train)\n",
    "pred_prob_3c = clf_3c.predict_proba(X_train)[:,1]\n",
    "pred_3c = clf_3c.predict(X_train)\n",
    "e_3c = error_function(pred_prob_3c, y_train)"
   ]
  },
  {
   "cell_type": "code",
   "execution_count": 25,
   "metadata": {
    "collapsed": false
   },
   "outputs": [
    {
     "data": {
      "text/plain": [
       "0.68191260332709591"
      ]
     },
     "execution_count": 25,
     "metadata": {},
     "output_type": "execute_result"
    }
   ],
   "source": [
    "pred_prob_3c_cv = clf_3c.predict_proba(X_cv)[:,1]\n",
    "pred_3c_cv = clf_3c.predict(X_cv)\n",
    "e_3c_cv = error_function(pred_prob_3c_cv, y_cv)\n",
    "e_3c_cv"
   ]
  },
  {
   "cell_type": "code",
   "execution_count": 26,
   "metadata": {
    "collapsed": true
   },
   "outputs": [],
   "source": [
    "pred_prob_3c_test = clf_3c.predict_proba(X_test)[:,1]\n",
    "pred_3c_test = clf_3c.predict(X_test)"
   ]
  },
  {
   "cell_type": "markdown",
   "metadata": {},
   "source": [
    "**3 d) Random tree classifier, Entropy criterion**"
   ]
  },
  {
   "cell_type": "code",
   "execution_count": 27,
   "metadata": {
    "collapsed": false
   },
   "outputs": [],
   "source": [
    "clf_3d = tree.ExtraTreeClassifier(criterion=\"entropy\", max_depth=2)\n",
    "clf_3d.fit(X_train, y_train)\n",
    "pred_prob_3d = clf_3d.predict_proba(X_train)[:,1]\n",
    "pred_3d = clf_3d.predict(X_train)\n",
    "e_3d = error_function(pred_prob_3d, y_train)"
   ]
  },
  {
   "cell_type": "code",
   "execution_count": 28,
   "metadata": {
    "collapsed": false
   },
   "outputs": [
    {
     "data": {
      "text/plain": [
       "0.68710318687022387"
      ]
     },
     "execution_count": 28,
     "metadata": {},
     "output_type": "execute_result"
    }
   ],
   "source": [
    "pred_prob_3d_cv = clf_3d.predict_proba(X_cv)[:,1]\n",
    "pred_3d_cv = clf_3d.predict(X_cv)\n",
    "e_3d_cv = error_function(pred_prob_3d_cv, y_cv)\n",
    "e_3d_cv"
   ]
  },
  {
   "cell_type": "code",
   "execution_count": 29,
   "metadata": {
    "collapsed": true
   },
   "outputs": [],
   "source": [
    "pred_prob_3d_test = clf_3d.predict_proba(X_test)[:,1]\n",
    "pred_3d_test = clf_3d.predict(X_test)"
   ]
  },
  {
   "cell_type": "markdown",
   "metadata": {},
   "source": [
    "###4 Gradient Boosting"
   ]
  },
  {
   "cell_type": "code",
   "execution_count": 30,
   "metadata": {
    "collapsed": false
   },
   "outputs": [],
   "source": [
    "clf_4 = ensemble.GradientBoostingClassifier(n_estimators=100, learning_rate=1.0,\n",
    "                                 max_depth=1, random_state=0).fit(X_train, y_train)\n",
    "pred_prob_4 = clf_4.predict_proba(X_train)[:,1]\n",
    "e_4 = error_function(pred_prob_4, y_train)"
   ]
  },
  {
   "cell_type": "code",
   "execution_count": 31,
   "metadata": {
    "collapsed": false
   },
   "outputs": [
    {
     "data": {
      "text/plain": [
       "0.58598735475438057"
      ]
     },
     "execution_count": 31,
     "metadata": {},
     "output_type": "execute_result"
    }
   ],
   "source": [
    "pred_prob_4_cv = clf_4.predict_proba(X_cv)[:,1]\n",
    "e_4_cv = error_function(pred_prob_4_cv, y_cv)\n",
    "e_4_cv"
   ]
  },
  {
   "cell_type": "code",
   "execution_count": 32,
   "metadata": {
    "collapsed": true
   },
   "outputs": [],
   "source": [
    "pred_prob_4_test = clf_4.predict_proba(X_test)[:,1]"
   ]
  },
  {
   "cell_type": "markdown",
   "metadata": {
    "collapsed": false
   },
   "source": [
    "###Ensembling!"
   ]
  },
  {
   "cell_type": "markdown",
   "metadata": {},
   "source": [
    "**'Unweighted' average**"
   ]
  },
  {
   "cell_type": "code",
   "execution_count": 33,
   "metadata": {
    "collapsed": false
   },
   "outputs": [
    {
     "data": {
      "text/plain": [
       "0.61757261157246202"
      ]
     },
     "execution_count": 33,
     "metadata": {},
     "output_type": "execute_result"
    }
   ],
   "source": [
    "X_ensemble = np.array((pred_prob_1a, pred_prob_1b, pred_prob_1c, pred_prob_2, \n",
    "                       pred_prob_3a, pred_prob_3b, pred_prob_3c, pred_prob_3d,\n",
    "                       pred_prob_4))\n",
    "X_ensemble_cv = np.array((pred_prob_1a_cv, pred_prob_1b_cv, pred_prob_1c_cv, pred_prob_2_cv, \n",
    "                       pred_prob_3a_cv, pred_prob_3b_cv, pred_prob_3c_cv, pred_prob_3d_cv,\n",
    "                       pred_prob_4_cv))\n",
    "votes = np.array([np.mean(X_ensemble_cv[:,i]) for i in range(len(X_ensemble_cv.T))])\n",
    "error_function(votes, y_cv)"
   ]
  },
  {
   "cell_type": "markdown",
   "metadata": {},
   "source": [
    "**Average weighted by error function**"
   ]
  },
  {
   "cell_type": "code",
   "execution_count": 34,
   "metadata": {
    "collapsed": false
   },
   "outputs": [
    {
     "data": {
      "text/plain": [
       "0.61619663722006801"
      ]
     },
     "execution_count": 34,
     "metadata": {},
     "output_type": "execute_result"
    }
   ],
   "source": [
    "errors = np.array((e_1a_cv, e_1b_cv, e_1c_cv, e_2_cv, \n",
    "                   e_3a_cv, e_3b_cv, e_3c_cv, e_3d_cv, e_4_cv))\n",
    "errors = 1./errors\n",
    "weights = errors / sum(errors)\n",
    "votes = np.dot(weights, X_ensemble_cv)\n",
    "error_function(votes, y_cv)"
   ]
  },
  {
   "cell_type": "markdown",
   "metadata": {},
   "source": [
    "**Logistic regression**"
   ]
  },
  {
   "cell_type": "code",
   "execution_count": 35,
   "metadata": {
    "collapsed": false
   },
   "outputs": [],
   "source": [
    "clf_ensemble = LogisticRegression()\n",
    "clf_ensemble.fit(X_ensemble.T, y_train)\n",
    "pred_clf_ensemble = clf_ensemble.predict_proba(X_ensemble.T)[:,1]"
   ]
  },
  {
   "cell_type": "code",
   "execution_count": 36,
   "metadata": {
    "collapsed": false
   },
   "outputs": [
    {
     "data": {
      "text/plain": [
       "0.57976222488686113"
      ]
     },
     "execution_count": 36,
     "metadata": {},
     "output_type": "execute_result"
    }
   ],
   "source": [
    "pred_clf_ensemble_cv = clf_ensemble.predict_proba(X_ensemble_cv.T)[:,1]\n",
    "error_function(pred_clf_ensemble_cv, y_cv)"
   ]
  },
  {
   "cell_type": "code",
   "execution_count": 37,
   "metadata": {
    "collapsed": false
   },
   "outputs": [],
   "source": [
    "X_ensemble_test = np.array((pred_prob_1a_test, pred_prob_1b_test, pred_prob_1c_test, pred_prob_2_test, \n",
    "                       pred_prob_3a_test, pred_prob_3b_test, pred_prob_3c_test, pred_prob_3d_test,\n",
    "                         pred_prob_4_test))\n",
    "pred_clf_ensemble_test = clf_ensemble.predict_proba(X_ensemble_test.T)[:,1]"
   ]
  },
  {
   "cell_type": "code",
   "execution_count": 38,
   "metadata": {
    "collapsed": false
   },
   "outputs": [
    {
     "data": {
      "text/plain": [
       "0.52206774987716575"
      ]
     },
     "execution_count": 38,
     "metadata": {},
     "output_type": "execute_result"
    }
   ],
   "source": [
    "error_function(pred_clf_ensemble_test, y_test)"
   ]
  },
  {
   "cell_type": "markdown",
   "metadata": {},
   "source": [
    "###Submission"
   ]
  },
  {
   "cell_type": "code",
   "execution_count": 89,
   "metadata": {
    "collapsed": false
   },
   "outputs": [],
   "source": [
    "df_submission = pd.DataFrame()\n",
    "\n",
    "# Extract the `rid` column (ie. <round>_<tid1>_<tid2>) from the `mid` column of the test set.\n",
    "df_submission[\"rid\"] = df_test[\"mid\"].str.slice(5)\n",
    "\n",
    "# Assign the predicted `tid1` win probabilities to the `prob` column.\n",
    "df_submission[\"prob\"] = pred_clf_ensemble_test"
   ]
  },
  {
   "cell_type": "code",
   "execution_count": 92,
   "metadata": {
    "collapsed": false
   },
   "outputs": [
    {
     "data": {
      "text/plain": [
       "(197, 2)"
      ]
     },
     "execution_count": 92,
     "metadata": {},
     "output_type": "execute_result"
    }
   ],
   "source": [
    "df_submission.shape"
   ]
  },
  {
   "cell_type": "code",
   "execution_count": 310,
   "metadata": {
    "collapsed": true
   },
   "outputs": [],
   "source": [
    "df_submission.to_csv(\"sportsbet_submission_doupe.csv\", index=False)"
   ]
  },
  {
   "cell_type": "code",
   "execution_count": null,
   "metadata": {
    "collapsed": true
   },
   "outputs": [],
   "source": []
  }
 ],
 "metadata": {
  "kernelspec": {
   "display_name": "Python 2",
   "language": "python",
   "name": "python2"
  },
  "language_info": {
   "codemirror_mode": {
    "name": "ipython",
    "version": 2
   },
   "file_extension": ".py",
   "mimetype": "text/x-python",
   "name": "python",
   "nbconvert_exporter": "python",
   "pygments_lexer": "ipython2",
   "version": "2.7.10"
  }
 },
 "nbformat": 4,
 "nbformat_minor": 0
}

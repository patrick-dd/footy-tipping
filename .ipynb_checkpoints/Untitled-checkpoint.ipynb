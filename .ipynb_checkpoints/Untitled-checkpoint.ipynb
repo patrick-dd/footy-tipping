{
 "cells": [
  {
   "cell_type": "markdown",
   "metadata": {},
   "source": [
    "#Footy tipping!\n",
    "\n",
    "We're going to first use a logistic regression to tip footy games\n",
    "\n",
    "We want to tip for the **whole season**. No updating mid year!\n"
   ]
  },
  {
   "cell_type": "code",
   "execution_count": 149,
   "metadata": {
    "collapsed": true
   },
   "outputs": [],
   "source": [
    "# Render our plots inline\n",
    "%matplotlib inline\n",
    "from IPython.display import Image\n",
    "import pandas as pd\n",
    "import numpy as np\n",
    "import matplotlib.pyplot as plt\n",
    "\n",
    "# Make the graphs a bit prettier\n",
    "pd.set_option('display.mpl_style', 'default') \n",
    "plt.rcParams['figure.figsize'] = (15, 5)\n",
    "# Limit the size of the dataframe html output in the ipython notebook.\n",
    "pd.set_option(\"display.max_rows\", 10)\n",
    "pd.set_option(\"display.max_columns\", 10)\n",
    "# Loading the data\n",
    "teams = pd.read_csv('data/teams.csv')\n",
    "seasons = pd.read_csv('data/seasons.csv')\n",
    "unplayed = pd.read_csv('data/unplayed.csv')"
   ]
  },
  {
   "cell_type": "markdown",
   "metadata": {},
   "source": [
    "So the variables we want are:\n",
    "+ Team id\n",
    "+ Last year's percentage for both teams\n",
    "+ Last year's points for both teams"
   ]
  },
  {
   "cell_type": "code",
   "execution_count": 150,
   "metadata": {
    "collapsed": false
   },
   "outputs": [],
   "source": [
    "# Simplifying the data set\n",
    "df_train = seasons[[\"mid\", 'season', 'round', 'tid1_loc', 'tid1', 'tid2', 'win_tid', 'h_tid', 'h_score', 'a_tid', 'a_score', 'margin' ]]"
   ]
  },
  {
   "cell_type": "code",
   "execution_count": 151,
   "metadata": {
    "collapsed": false
   },
   "outputs": [],
   "source": [
    "sLength = len(df_train['mid'])\n",
    "df_train.loc[:, 'tid1_score'] = 0 #pd.Series(np.zeros(sLength), index=df_train.index)\n",
    "df_train.loc[:, 'tid2_score'] = 0 #pd.Series(np.zeros(sLength), index=df_train.index)"
   ]
  },
  {
   "cell_type": "code",
   "execution_count": 152,
   "metadata": {
    "collapsed": false
   },
   "outputs": [],
   "source": [
    "home_is_tid1 = (df_train['h_tid'] == df_train['tid1'])\n",
    "away_is_tid1 = (df_train['a_tid'] == df_train['tid1'])\n",
    "df_train.ix[home_is_tid1,'tid1_score'] = df_train['h_score']\n",
    "df_train.ix[away_is_tid1,'tid1_score'] = df_train['a_score']\n",
    "df_train.ix[away_is_tid1,'tid2_score'] = df_train['h_score']\n",
    "df_train.ix[home_is_tid1,'tid2_score'] = df_train['a_score']"
   ]
  },
  {
   "cell_type": "code",
   "execution_count": 153,
   "metadata": {
    "collapsed": false
   },
   "outputs": [],
   "source": [
    "# Calculating last year's percentage\n",
    "tid1_scores = df_train.groupby(['season', 'tid1']).sum()['tid1_score']\n",
    "tid2_scores = df_train.groupby(['season', 'tid2']).sum()['tid2_score']\n",
    "scores_for = pd.concat([tid1_scores, tid2_scores], axis=1)\n",
    "scores_for['scores_for'] = 0\n",
    "scores_for.scores_for = scores_for.tid1_score.fillna(0) + scores_for.tid2_score.fillna(0)\n",
    "tid1_game_tid2_opponent_score = df_train.groupby(['season', 'tid1']).sum()['tid2_score']\n",
    "tid2_game_tid1_opponent_score = df_train.groupby(['season', 'tid2']).sum()['tid1_score']\n",
    "scores_against = pd.concat([tid1_game_tid2_opponent_score, tid2_game_tid1_opponent_score], axis=1)\n",
    "scores_against['scores_against'] = 0\n",
    "scores_against.scores_against = scores_against.tid2_score.fillna(0) + scores_against.tid2_score.fillna(0)\n",
    "last_year = pd.concat([scores_for, scores_against], axis=1)\n",
    "last_year = last_year[['scores_for', 'scores_against']]\n",
    "last_year['percentage'] = last_year['scores_for'] / last_year['scores_against']\n",
    "last_year = last_year[['percentage']]"
   ]
  },
  {
   "cell_type": "code",
   "execution_count": 154,
   "metadata": {
    "collapsed": false
   },
   "outputs": [],
   "source": [
    "df_train = df_train[df_train['season']>= 2010]\n",
    "df_train['tid1_last_season_percentage'] = 0\n",
    "df_train['tid2_last_season_percentage'] = 0\n",
    "teams_list = pd.unique(teams['tid'].ravel())\n",
    "teams_list_pre_2011 = np.delete(teams_list, [7,8])\n",
    "teams_list_pre_2012 = np.delete(teams_list, [8])\n",
    "seasons_list = pd.unique(df.season.ravel())\n",
    "base_season = seasons_list[0]\n",
    "\n",
    "for year in range(2010, 2015+1):\n",
    "    for team in teams_list_pre_2011:\n",
    "        df_train.loc[(df_train['season']==year) & (df_train['tid1']==team), 'tid1_last_season_percentage'] = last_year.loc[year-1, team][0]            \n",
    "        df_train.loc[(df_train['season']==year) & (df_train['tid2']==team), 'tid2_last_season_percentage'] = last_year.loc[year-1, team][0]            \n",
    "\n",
    "# Bloody Gold Coast\n",
    "df_train.loc[(df_train['season']==2011) & (df_train['tid1']==108), 'tid1_last_season_percentage'] = 1            \n",
    "df_train.loc[(df_train['season']==2011) & (df_train['tid2']==108), 'tid2_last_season_percentage'] = 1 \n",
    "for year in range(2012, 2015+1):\n",
    "    df_train.loc[(df_train['season']==year) & (df_train['tid1']==108), 'tid1_last_season_percentage'] = last_year.loc[year-1, 108][0]            \n",
    "    df_train.loc[(df_train['season']==year) & (df_train['tid2']==108), 'tid2_last_season_percentage'] = last_year.loc[year-1, 108][0] \n",
    "\n",
    "# Bloody GWS\n",
    "df_train.loc[(df_train['season']==2012) & (df_train['tid1']==109), 'tid1_last_season_percentage'] = 1            \n",
    "df_train.loc[(df_train['season']==2012) & (df_train['tid2']==109), 'tid2_last_season_percentage'] = 1            \n",
    "for year in range(2013, 2015+1):\n",
    "    df_train.loc[(df_train['season']==year) & (df_train['tid1']==109), 'tid1_last_season_percentage'] = last_year.loc[year-1, 109][0]             \n",
    "    df_train.loc[(df_train['season']==year) & (df_train['tid2']==109), 'tid2_last_season_percentage'] = last_year.loc[year-1, 109][0]"
   ]
  },
  {
   "cell_type": "markdown",
   "metadata": {},
   "source": [
    "A column indicating whether *tid1* won"
   ]
  },
  {
   "cell_type": "code",
   "execution_count": 155,
   "metadata": {
    "collapsed": false
   },
   "outputs": [],
   "source": [
    "def get_tid1_prob(r):\n",
    "    if r[\"win_tid\"] == r[\"tid1\"]:\n",
    "        prob = 1.0 # tid1 win\n",
    "    else:\n",
    "        prob = 0.0 # tid1 loss\n",
    "    return prob\n",
    "\n",
    "df_train[\"prob\"] = df_train.apply(get_tid1_prob, axis=1)"
   ]
  },
  {
   "cell_type": "markdown",
   "metadata": {},
   "source": [
    "Generating team dummies, and home or away for tid1"
   ]
  },
  {
   "cell_type": "code",
   "execution_count": 156,
   "metadata": {
    "collapsed": false
   },
   "outputs": [],
   "source": [
    "df_train_dum = pd.get_dummies(df_train, columns=[\"tid1\", \"tid2\", \"tid1_loc\"])"
   ]
  },
  {
   "cell_type": "markdown",
   "metadata": {},
   "source": [
    "Extracting the round from the data"
   ]
  },
  {
   "cell_type": "code",
   "execution_count": 157,
   "metadata": {
    "collapsed": false
   },
   "outputs": [],
   "source": [
    "df_train[\"round\"] = df_train[\"round\"].str.slice(1).astype(int)"
   ]
  },
  {
   "cell_type": "markdown",
   "metadata": {},
   "source": [
    "Developing the training, cross validation and test data\n",
    "\n",
    "(The test data will need to be added after round 23)"
   ]
  },
  {
   "cell_type": "code",
   "execution_count": 158,
   "metadata": {
    "collapsed": true
   },
   "outputs": [],
   "source": [
    "# Constructing a training, validation and hold out sets\n",
    "df_cv = df_train[df_train[\"season\"] == 2014].reset_index(drop=True)\n",
    "df_test = df_train[df_train[\"season\"] == 2015].reset_index(drop=True)\n",
    "df_train = df_train[df_train[\"season\"] <= 2013].reset_index(drop=True)"
   ]
  },
  {
   "cell_type": "code",
   "execution_count": 159,
   "metadata": {
    "collapsed": false
   },
   "outputs": [
    {
     "name": "stderr",
     "output_type": "stream",
     "text": [
      "//anaconda/lib/python2.7/site-packages/pandas/core/generic.py:1000: FutureWarning: save is deprecated, use to_pickle\n",
      "  warnings.warn(\"save is deprecated, use to_pickle\", FutureWarning)\n"
     ]
    }
   ],
   "source": [
    "df_train.save('afl_train_full_season')\n",
    "df_cv.save('afl_cval_full_season')\n",
    "df_test.save('afl_test_full_season')"
   ]
  },
  {
   "cell_type": "code",
   "execution_count": null,
   "metadata": {
    "collapsed": true
   },
   "outputs": [],
   "source": []
  }
 ],
 "metadata": {
  "kernelspec": {
   "display_name": "Python 2",
   "language": "python",
   "name": "python2"
  },
  "language_info": {
   "codemirror_mode": {
    "name": "ipython",
    "version": 2
   },
   "file_extension": ".py",
   "mimetype": "text/x-python",
   "name": "python",
   "nbconvert_exporter": "python",
   "pygments_lexer": "ipython2",
   "version": "2.7.10"
  }
 },
 "nbformat": 4,
 "nbformat_minor": 0
}

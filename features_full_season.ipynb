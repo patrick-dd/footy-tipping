{
 "cells": [
  {
   "cell_type": "markdown",
   "metadata": {},
   "source": [
    "#Footy tipping!\n",
    "\n",
    "We're going to first use a logistic regression to tip footy games\n",
    "\n",
    "We want to tip for the **whole season**. No updating mid year!\n"
   ]
  },
  {
   "cell_type": "code",
   "execution_count": 1,
   "metadata": {
    "collapsed": true
   },
   "outputs": [],
   "source": [
    "# Render our plots inline\n",
    "%matplotlib inline\n",
    "from IPython.display import Image\n",
    "import pandas as pd\n",
    "import numpy as np\n",
    "import matplotlib.pyplot as plt\n",
    "\n",
    "# Make the graphs a bit prettier\n",
    "pd.set_option('display.mpl_style', 'default') \n",
    "plt.rcParams['figure.figsize'] = (15, 5)\n",
    "# Limit the size of the dataframe html output in the ipython notebook.\n",
    "pd.set_option(\"display.max_rows\", 10)\n",
    "pd.set_option(\"display.max_columns\", 10)\n",
    "# Loading the data\n",
    "teams = pd.read_csv('data/teams.csv')\n",
    "seasons = pd.read_csv('data/seasons.csv')\n",
    "unplayed = pd.read_csv('data/unplayed.csv')"
   ]
  },
  {
   "cell_type": "markdown",
   "metadata": {},
   "source": [
    "So the variables we want are:\n",
    "+ Team id\n",
    "+ Last year's percentage for both teams\n",
    "+ Last year's points for both teams"
   ]
  },
  {
   "cell_type": "code",
   "execution_count": 2,
   "metadata": {
    "collapsed": false
   },
   "outputs": [],
   "source": [
    "# Simplifying the data set\n",
    "df_train = seasons[[\"mid\", 'season', 'round', 'tid1_loc', 'tid1', 'tid2', 'win_tid', 'h_tid', 'h_score', 'a_tid', 'a_score', 'margin' ]]"
   ]
  },
  {
   "cell_type": "code",
   "execution_count": 3,
   "metadata": {
    "collapsed": false
   },
   "outputs": [
    {
     "name": "stderr",
     "output_type": "stream",
     "text": [
      "//anaconda/lib/python2.7/site-packages/pandas/core/indexing.py:249: SettingWithCopyWarning: \n",
      "A value is trying to be set on a copy of a slice from a DataFrame.\n",
      "Try using .loc[row_indexer,col_indexer] = value instead\n",
      "\n",
      "See the the caveats in the documentation: http://pandas.pydata.org/pandas-docs/stable/indexing.html#indexing-view-versus-copy\n",
      "  self.obj[key] = _infer_fill_value(value)\n",
      "//anaconda/lib/python2.7/site-packages/pandas/core/indexing.py:415: SettingWithCopyWarning: \n",
      "A value is trying to be set on a copy of a slice from a DataFrame.\n",
      "Try using .loc[row_indexer,col_indexer] = value instead\n",
      "\n",
      "See the the caveats in the documentation: http://pandas.pydata.org/pandas-docs/stable/indexing.html#indexing-view-versus-copy\n",
      "  self.obj[item] = s\n"
     ]
    }
   ],
   "source": [
    "sLength = len(df_train['mid'])\n",
    "df_train.ix[:, 'tid1_score'] = 0 #pd.Series(np.zeros(sLength), index=df_train.index)\n",
    "df_train.ix[:, 'tid2_score'] = 0 #pd.Series(np.zeros(sLength), index=df_train.index)"
   ]
  },
  {
   "cell_type": "code",
   "execution_count": 4,
   "metadata": {
    "collapsed": false
   },
   "outputs": [],
   "source": [
    "home_is_tid1 = (df_train['h_tid'] == df_train['tid1'])\n",
    "away_is_tid1 = (df_train['a_tid'] == df_train['tid1'])\n",
    "df_train.ix[home_is_tid1,'tid1_score'] = df_train['h_score']\n",
    "df_train.ix[away_is_tid1,'tid1_score'] = df_train['a_score']\n",
    "df_train.ix[away_is_tid1,'tid2_score'] = df_train['h_score']\n",
    "df_train.ix[home_is_tid1,'tid2_score'] = df_train['a_score']"
   ]
  },
  {
   "cell_type": "code",
   "execution_count": 5,
   "metadata": {
    "collapsed": false
   },
   "outputs": [],
   "source": [
    "# Calculating last year's percentage\n",
    "# scores for\n",
    "tid1_scores = df_train.groupby(['season', 'tid1']).sum()['tid1_score']\n",
    "tid2_scores = df_train.groupby(['season', 'tid2']).sum()['tid2_score']\n",
    "scores_for = pd.concat([tid1_scores, tid2_scores], axis=1)\n",
    "scores_for['scores_for'] = 0\n",
    "scores_for.scores_for = scores_for.tid1_score.fillna(0) + scores_for.tid2_score.fillna(0)\n",
    "#scores against\n",
    "tid1_game_tid2_opponent_score = df_train.groupby(['season', 'tid1']).sum()['tid2_score']\n",
    "tid2_game_tid1_opponent_score = df_train.groupby(['season', 'tid2']).sum()['tid1_score']\n",
    "scores_against = pd.concat([tid1_game_tid2_opponent_score, tid2_game_tid1_opponent_score], axis=1)\n",
    "scores_against['scores_against'] = 0\n",
    "scores_against.scores_against = scores_against.tid1_score.fillna(0) + scores_against.tid2_score.fillna(0)\n",
    "current_year = pd.concat([scores_for, scores_against], axis=1)\n",
    "current_year = current_year[['scores_for', 'scores_against']]\n",
    "current_year['percentage'] = current_year['scores_for'] / current_year['scores_against']\n",
    "current_year = current_year[['percentage']]"
   ]
  },
  {
   "cell_type": "code",
   "execution_count": 6,
   "metadata": {
    "collapsed": false
   },
   "outputs": [],
   "source": [
    "df_train.loc[:, 'tid1_last_season_percentage'] = 0\n",
    "df_train.loc[:, 'tid2_last_season_percentage'] = 0\n",
    "teams_list = pd.unique(teams['tid'].ravel())\n",
    "teams_list_pre_2011 = np.delete(teams_list, [7,8])\n",
    "teams_list_pre_2012 = np.delete(teams_list, [8])\n",
    "seasons_list = pd.unique(df_train.season.ravel())\n",
    "base_year = 2005\n",
    "\n",
    "for year in range(base_year, 2015+1):\n",
    "    for team in teams_list_pre_2011:\n",
    "        df_train.loc[(df_train['season']==year) & (df_train['tid1']==team), 'tid1_last_season_percentage'] = current_year.loc[year-1, team][0]            \n",
    "        df_train.loc[(df_train['season']==year) & (df_train['tid2']==team), 'tid2_last_season_percentage'] = current_year.loc[year-1, team][0]            "
   ]
  },
  {
   "cell_type": "code",
   "execution_count": 7,
   "metadata": {
    "collapsed": true
   },
   "outputs": [],
   "source": [
    "# Bloody Gold Coast\n",
    "# Give them their first year's percentage as the lagged percentage\n",
    "df_train.loc[(df_train['season']==2011) & (df_train['tid1']==108), 'tid1_last_season_percentage'] = current_year.loc[2011, 108][0]            \n",
    "df_train.loc[(df_train['season']==2011) & (df_train['tid2']==108), 'tid2_last_season_percentage'] = current_year.loc[2011, 108][0]\n",
    "for year in range(2012, 2015+1):\n",
    "    df_train.loc[(df_train['season']==year) & (df_train['tid1']==108), 'tid1_last_season_percentage'] = current_year.loc[year-1, 108][0]            \n",
    "    df_train.loc[(df_train['season']==year) & (df_train['tid2']==108), 'tid2_last_season_percentage'] = current_year.loc[year-1, 108][0] "
   ]
  },
  {
   "cell_type": "code",
   "execution_count": 8,
   "metadata": {
    "collapsed": false
   },
   "outputs": [],
   "source": [
    "# Bloody GWS\n",
    "# Give them their first year's percentage as the lagged percentage\n",
    "df_train.loc[(df_train['season']==2012) & (df_train['tid1']==109), 'tid1_last_season_percentage'] = current_year.loc[2012, 109][0]\n",
    "df_train.loc[(df_train['season']==2012) & (df_train['tid2']==109), 'tid2_last_season_percentage'] = current_year.loc[2012, 109][0]            \n",
    "for year in range(2013, 2015+1):\n",
    "    df_train.loc[(df_train['season']==year) & (df_train['tid1']==109), 'tid1_last_season_percentage'] = current_year.loc[year-1, 109][0]             \n",
    "    df_train.loc[(df_train['season']==year) & (df_train['tid2']==109), 'tid2_last_season_percentage'] = current_year.loc[year-1, 109][0]"
   ]
  },
  {
   "cell_type": "markdown",
   "metadata": {},
   "source": [
    "### Calculating the win ratio for the year to date\n",
    "\n",
    "win ratio = $\\frac{\\# wins + 0.5\\cdot\\#draws}{4\\cdot \\#games}$\n",
    "\n",
    "Base year"
   ]
  },
  {
   "cell_type": "code",
   "execution_count": 9,
   "metadata": {
    "collapsed": false
   },
   "outputs": [],
   "source": [
    "df_train_0 = df_train"
   ]
  },
  {
   "cell_type": "code",
   "execution_count": 10,
   "metadata": {
    "collapsed": false
   },
   "outputs": [],
   "source": [
    "# Collecting premiership points. Ignoring draws.\n",
    "df_train_0.loc[:,'tid1_points'] = 0\n",
    "df_train_0.loc[(df_train_0['tid1']==df_train_0['win_tid']), 'tid1_points'] = 4\n",
    "df_train_0.loc[:,'tid2_points'] = 0\n",
    "df_train_0.loc[(df_train_0['tid2']==df_train_0['win_tid']), 'tid2_points'] = 4\n",
    "tid1_points = df_train.groupby(['season', 'tid1']).sum()['tid1_points']\n",
    "tid2_points = df_train.groupby(['season', 'tid2']).sum()['tid2_points']\n",
    "tid_points = pd.concat([tid1_points, tid2_points], axis=1)\n",
    "tid_points['tid_points'] = 0\n",
    "tid_points.tid_points = tid_points.tid1_points.fillna(0) + tid_points.tid2_points.fillna(0)\n",
    "# dividing by total amount of points available. 22 games a season at 4 points each\n",
    "tid_points['total_points'] = (4 * 22.0)\n",
    "tid_points['win_ratio'] = tid_points.tid_points / tid_points.total_points\n",
    "tid_points = tid_points[['win_ratio']]"
   ]
  },
  {
   "cell_type": "code",
   "execution_count": 11,
   "metadata": {
    "collapsed": false
   },
   "outputs": [],
   "source": [
    "df_train.loc[:, 'tid1_last_season_win_ratio'] = 0\n",
    "df_train.loc[:, 'tid2_last_season_win_ratio'] = 0\n",
    "teams_list = pd.unique(teams['tid'].ravel())\n",
    "teams_list_pre_2011 = np.delete(teams_list, [7,8])\n",
    "teams_list_pre_2012 = np.delete(teams_list, [8])\n",
    "seasons_list = pd.unique(df_train.season.ravel())\n",
    "base_year = 2005\n",
    "\n",
    "for year in range(base_year, 2015+1):\n",
    "    for team in teams_list_pre_2011:\n",
    "        df_train.loc[(df_train['season']==year) & (df_train['tid1']==team), 'tid1_last_season_win_ratio'] = tid_points.loc[year-1, team][0]            \n",
    "        df_train.loc[(df_train['season']==year) & (df_train['tid2']==team), 'tid2_last_season_win_ratio'] = tid_points.loc[year-1, team][0]            "
   ]
  },
  {
   "cell_type": "code",
   "execution_count": 12,
   "metadata": {
    "collapsed": true
   },
   "outputs": [],
   "source": [
    "# Bloody Gold Coast\n",
    "# Give them their first year's percentage as the lagged percentage\n",
    "df_train.loc[(df_train['season']==2011) & (df_train['tid1']==108), 'tid1_last_season_win_ratio'] = tid_points.loc[2011, 108][0]            \n",
    "df_train.loc[(df_train['season']==2011) & (df_train['tid2']==108), 'tid2_last_season_win_ratio'] = tid_points.loc[2011, 108][0]\n",
    "for year in range(2012, 2015+1):\n",
    "    df_train.loc[(df_train['season']==year) & (df_train['tid1']==108), 'tid1_last_season_win_ratio'] = tid_points.loc[year-1, 108][0]            \n",
    "    df_train.loc[(df_train['season']==year) & (df_train['tid2']==108), 'tid2_last_season_win_ratio'] = tid_points.loc[year-1, 108][0] "
   ]
  },
  {
   "cell_type": "code",
   "execution_count": 13,
   "metadata": {
    "collapsed": true
   },
   "outputs": [],
   "source": [
    "# Bloody GWS\n",
    "# Give them their first year's percentage as the lagged percentage\n",
    "df_train.loc[(df_train['season']==2012) & (df_train['tid1']==109), 'tid1_last_season_win_ratio'] = tid_points.loc[2012, 109][0]\n",
    "df_train.loc[(df_train['season']==2012) & (df_train['tid2']==109), 'tid2_last_season_win_ratio'] = tid_points.loc[2012, 109][0]            \n",
    "for year in range(2013, 2015+1):\n",
    "    df_train.loc[(df_train['season']==year) & (df_train['tid1']==109), 'tid1_last_season_win_ratio'] = tid_points.loc[year-1, 109][0]             \n",
    "    df_train.loc[(df_train['season']==year) & (df_train['tid2']==109), 'tid2_last_season_win_ratio'] = tid_points.loc[year-1, 109][0]"
   ]
  },
  {
   "cell_type": "markdown",
   "metadata": {},
   "source": [
    "A column indicating whether *tid1* won"
   ]
  },
  {
   "cell_type": "code",
   "execution_count": 14,
   "metadata": {
    "collapsed": true
   },
   "outputs": [],
   "source": [
    "df_train.loc[:, 'prob'] = 0\n",
    "df_train.loc[(df_train['win_tid'] == df_train['tid1']), 'prob'] = 1         "
   ]
  },
  {
   "cell_type": "markdown",
   "metadata": {},
   "source": [
    "\n",
    "Generating team dummies, and home or away for tid1"
   ]
  },
  {
   "cell_type": "code",
   "execution_count": 15,
   "metadata": {
    "collapsed": false
   },
   "outputs": [],
   "source": [
    "df_train = pd.get_dummies(df_train, columns=[\"tid1\", \"tid2\", \"tid1_loc\"])"
   ]
  },
  {
   "cell_type": "markdown",
   "metadata": {},
   "source": [
    "Extracting the round from the data"
   ]
  },
  {
   "cell_type": "code",
   "execution_count": 16,
   "metadata": {
    "collapsed": false
   },
   "outputs": [],
   "source": [
    "df_train[\"round\"] = df_train[\"round\"].str.slice(1).astype(int)"
   ]
  },
  {
   "cell_type": "markdown",
   "metadata": {},
   "source": [
    "Developing the training, cross validation and test data"
   ]
  },
  {
   "cell_type": "code",
   "execution_count": 17,
   "metadata": {
    "collapsed": false
   },
   "outputs": [],
   "source": [
    "# Constructing a training, validation and hold out sets\n",
    "df_cv = df_train[df_train[\"season\"] == 2014].reset_index(drop=True)\n",
    "df_test = df_train[df_train[\"season\"] == 2015].reset_index(drop=True)\n",
    "df_train = df_train[(df_train[\"season\"] >= 2010) & \n",
    "                   df_train[\"season\"] <= 2013].reset_index(drop=True)"
   ]
  },
  {
   "cell_type": "code",
   "execution_count": 18,
   "metadata": {
    "collapsed": false
   },
   "outputs": [],
   "source": [
    "df_train.to_pickle('afl_train_full_season.pkl')\n",
    "df_cv.to_pickle('afl_cval_full_season.pkl')\n",
    "df_test.to_pickle('afl_test_full_season.pkl')"
   ]
  },
  {
   "cell_type": "code",
   "execution_count": null,
   "metadata": {
    "collapsed": true
   },
   "outputs": [],
   "source": []
  }
 ],
 "metadata": {
  "kernelspec": {
   "display_name": "Python 2",
   "language": "python",
   "name": "python2"
  },
  "language_info": {
   "codemirror_mode": {
    "name": "ipython",
    "version": 2
   },
   "file_extension": ".py",
   "mimetype": "text/x-python",
   "name": "python",
   "nbconvert_exporter": "python",
   "pygments_lexer": "ipython2",
   "version": "2.7.10"
  }
 },
 "nbformat": 4,
 "nbformat_minor": 0
}

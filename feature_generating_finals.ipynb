{
 "cells": [
  {
   "cell_type": "markdown",
   "metadata": {},
   "source": [
    "# Footy tipping!\n",
    "\n",
    "Creating features for the finals.\n",
    "\n",
    "Not worrying about finals location for the time being. Hopefully the ladder position & finals week can control for that."
   ]
  },
  {
   "cell_type": "code",
   "execution_count": 34,
   "metadata": {
    "collapsed": true
   },
   "outputs": [],
   "source": [
    "# Render our plots inline\n",
    "%matplotlib inline\n",
    "from IPython.display import Image\n",
    "import pandas as pd\n",
    "import numpy as np\n",
    "import matplotlib.pyplot as plt\n",
    "\n",
    "# Make the graphs a bit prettier\n",
    "pd.set_option('display.mpl_style', 'default') \n",
    "plt.rcParams['figure.figsize'] = (15, 5)\n",
    "# Limit the size of the dataframe html output in the ipython notebook.\n",
    "pd.set_option(\"display.max_rows\", 30)\n",
    "pd.set_option(\"display.max_columns\", 20)\n",
    "# Loading the data\n",
    "teams = pd.read_csv('data/teams.csv')\n",
    "seasons = pd.read_csv('data/seasons.csv')\n",
    "finals = pd.read_csv('data/finals.csv')"
   ]
  },
  {
   "cell_type": "code",
   "execution_count": 35,
   "metadata": {
    "collapsed": false
   },
   "outputs": [],
   "source": [
    "df_finals = finals[[\"mid\", 'season', 'round', 'tid1_loc', 'tid1', 'tid2', 'win_tid', 'h_tid', 'h_score', 'a_tid', 'a_score', 'margin' ]]"
   ]
  },
  {
   "cell_type": "code",
   "execution_count": 36,
   "metadata": {
    "collapsed": false
   },
   "outputs": [],
   "source": [
    "df_finals.loc[:, 'prob'] = 0\n",
    "df_finals.loc[(df_finals['win_tid'] == df_finals['tid1']), 'prob'] = 1    "
   ]
  },
  {
   "cell_type": "markdown",
   "metadata": {},
   "source": [
    "Creating the year's data set"
   ]
  },
  {
   "cell_type": "code",
   "execution_count": 37,
   "metadata": {
    "collapsed": true
   },
   "outputs": [],
   "source": [
    "# Simplifying the data set\n",
    "df_train = seasons[[\"mid\", 'season', 'round', 'tid1_loc', 'tid1', 'tid2', 'win_tid', 'h_tid', 'h_score', 'a_tid', 'a_score', 'margin' ]]"
   ]
  },
  {
   "cell_type": "code",
   "execution_count": 38,
   "metadata": {
    "collapsed": true
   },
   "outputs": [],
   "source": [
    "sLength = len(df_train['mid'])\n",
    "df_train.ix[:, 'tid1_score'] = 0 #pd.Series(np.zeros(sLength), index=df_train.index)\n",
    "df_train.ix[:, 'tid2_score'] = 0 #pd.Series(np.zeros(sLength), index=df_train.index)"
   ]
  },
  {
   "cell_type": "code",
   "execution_count": 39,
   "metadata": {
    "collapsed": true
   },
   "outputs": [],
   "source": [
    "home_is_tid1 = (df_train['h_tid'] == df_train['tid1'])\n",
    "away_is_tid1 = (df_train['a_tid'] == df_train['tid1'])\n",
    "df_train.ix[home_is_tid1,'tid1_score'] = df_train['h_score']\n",
    "df_train.ix[away_is_tid1,'tid1_score'] = df_train['a_score']\n",
    "df_train.ix[away_is_tid1,'tid2_score'] = df_train['h_score']\n",
    "df_train.ix[home_is_tid1,'tid2_score'] = df_train['a_score']"
   ]
  },
  {
   "cell_type": "code",
   "execution_count": 40,
   "metadata": {
    "collapsed": true
   },
   "outputs": [],
   "source": [
    "# Calculating last year's percentage\n",
    "# scores for\n",
    "tid1_scores = df_train.groupby(['season', 'tid1']).sum()['tid1_score']\n",
    "tid2_scores = df_train.groupby(['season', 'tid2']).sum()['tid2_score']\n",
    "scores_for = pd.concat([tid1_scores, tid2_scores], axis=1)\n",
    "scores_for['scores_for'] = 0\n",
    "scores_for.scores_for = scores_for.tid1_score.fillna(0) + scores_for.tid2_score.fillna(0)\n",
    "#scores against\n",
    "tid1_game_tid2_opponent_score = df_train.groupby(['season', 'tid1']).sum()['tid2_score']\n",
    "tid2_game_tid1_opponent_score = df_train.groupby(['season', 'tid2']).sum()['tid1_score']\n",
    "scores_against = pd.concat([tid1_game_tid2_opponent_score, tid2_game_tid1_opponent_score], axis=1)\n",
    "scores_against['scores_against'] = 0\n",
    "scores_against.scores_against = scores_against.tid1_score.fillna(0) + scores_against.tid2_score.fillna(0)\n",
    "current_year = pd.concat([scores_for, scores_against], axis=1)\n",
    "current_year = current_year[['scores_for', 'scores_against']]\n",
    "current_year['percentage'] = current_year['scores_for'] / current_year['scores_against']\n",
    "current_year = current_year[['percentage']]"
   ]
  },
  {
   "cell_type": "code",
   "execution_count": 41,
   "metadata": {
    "collapsed": true
   },
   "outputs": [],
   "source": [
    "df_train.loc[:, 'tid1_season_percentage'] = 0\n",
    "df_train.loc[:, 'tid2_season_percentage'] = 0\n",
    "teams_list = pd.unique(teams['tid'].ravel())\n",
    "teams_list_pre_2011 = np.delete(teams_list, [7,8])\n",
    "teams_list_pre_2012 = np.delete(teams_list, [8])\n",
    "seasons_list = pd.unique(df_train.season.ravel())\n",
    "base_year = 2005\n",
    "\n",
    "for year in range(base_year, 2015+1):\n",
    "    for team in teams_list_pre_2011:\n",
    "        df_train.loc[(df_train['season']==year) & (df_train['tid1']==team), 'tid1_season_percentage'] = current_year.loc[year, team][0]            \n",
    "        df_train.loc[(df_train['season']==year) & (df_train['tid2']==team), 'tid2_season_percentage'] = current_year.loc[year, team][0]            "
   ]
  },
  {
   "cell_type": "code",
   "execution_count": 42,
   "metadata": {
    "collapsed": true
   },
   "outputs": [],
   "source": [
    "# Bloody Gold Coast\n",
    "for year in range(2011, 2015+1):\n",
    "    df_train.loc[(df_train['season']==year) & (df_train['tid1']==108), 'tid1_season_percentage'] = current_year.loc[year, 108][0]            \n",
    "    df_train.loc[(df_train['season']==year) & (df_train['tid2']==108), 'tid2_season_percentage'] = current_year.loc[year, 108][0] "
   ]
  },
  {
   "cell_type": "code",
   "execution_count": 43,
   "metadata": {
    "collapsed": true
   },
   "outputs": [],
   "source": [
    "# Bloody GWS\n",
    "# Give them their first year's percentage as the lagged percentage\n",
    "for year in range(2012, 2015+1):\n",
    "    df_train.loc[(df_train['season']==year) & (df_train['tid1']==109), 'tid1_season_percentage'] = current_year.loc[year, 109][0]             \n",
    "    df_train.loc[(df_train['season']==year) & (df_train['tid2']==109), 'tid2_season_percentage'] = current_year.loc[year, 109][0]"
   ]
  },
  {
   "cell_type": "markdown",
   "metadata": {},
   "source": [
    "### Calculating the win ratio for the year to date\n",
    "\n",
    "win ratio = $\\frac{\\# wins + 0.5\\cdot\\#draws}{4\\cdot \\#games}$\n",
    "\n",
    "Base year"
   ]
  },
  {
   "cell_type": "code",
   "execution_count": 44,
   "metadata": {
    "collapsed": false
   },
   "outputs": [],
   "source": [
    "# Collecting premiership points. Ignoring draws.\n",
    "df_train.loc[:,'tid1_points'] = 0\n",
    "df_train.loc[(df_train['tid1']==df_train['win_tid']), 'tid1_points'] = 4\n",
    "df_train.loc[:,'tid2_points'] = 0\n",
    "df_train.loc[(df_train['tid2']==df_train['win_tid']), 'tid2_points'] = 4\n",
    "df_train.loc[(df_train['margin']== 0), 'tid1_points'] = 2\n",
    "df_train.loc[(df_train['margin']== 0), 'tid2_points'] = 2\n",
    "tid1_points = df_train.groupby(['season', 'tid1']).sum()['tid1_points']\n",
    "tid2_points = df_train.groupby(['season', 'tid2']).sum()['tid2_points']\n",
    "tid_points = pd.concat([tid1_points, tid2_points], axis=1)\n",
    "tid_points['tid_points'] = 0\n",
    "tid_points.tid_points = tid_points.tid1_points.fillna(0) + tid_points.tid2_points.fillna(0)\n",
    "# dividing by total amount of points available. 22 games a season at 4 points each\n",
    "tid_points['total_points'] = (4 * 22.0)\n",
    "tid_points['win_ratio'] = tid_points.tid_points / tid_points.total_points\n",
    "tid_points = tid_points[['win_ratio']]"
   ]
  },
  {
   "cell_type": "code",
   "execution_count": 45,
   "metadata": {
    "collapsed": true
   },
   "outputs": [],
   "source": [
    "df_train.loc[:, 'tid1_season_win_ratio'] = 0\n",
    "df_train.loc[:, 'tid2_season_win_ratio'] = 0\n",
    "teams_list = pd.unique(teams['tid'].ravel())\n",
    "teams_list_pre_2011 = np.delete(teams_list, [7,8])\n",
    "teams_list_pre_2012 = np.delete(teams_list, [8])\n",
    "seasons_list = pd.unique(df_train.season.ravel())\n",
    "base_year = 2000\n",
    "\n",
    "for year in range(base_year, 2015+1):\n",
    "    for team in teams_list_pre_2011:\n",
    "        df_train.loc[(df_train['season']==year) & (df_train['tid1']==team), 'tid1_season_win_ratio'] = tid_points.loc[year, team][0]            \n",
    "        df_train.loc[(df_train['season']==year) & (df_train['tid2']==team), 'tid2_season_win_ratio'] = tid_points.loc[year, team][0]            "
   ]
  },
  {
   "cell_type": "code",
   "execution_count": 46,
   "metadata": {
    "collapsed": true
   },
   "outputs": [],
   "source": [
    "# Bloody Gold Coast\n",
    "# Give them their first year's percentage as the lagged percentage\n",
    "for year in range(2011, 2015+1):\n",
    "    df_train.loc[(df_train['season']==year) & (df_train['tid1']==108), 'tid1_season_win_ratio'] = tid_points.loc[year, 108][0]            \n",
    "    df_train.loc[(df_train['season']==year) & (df_train['tid2']==108), 'tid2_season_win_ratio'] = tid_points.loc[year, 108][0] "
   ]
  },
  {
   "cell_type": "code",
   "execution_count": 47,
   "metadata": {
    "collapsed": true
   },
   "outputs": [],
   "source": [
    "# Bloody GWS\n",
    "# Give them their first year's percentage as the lagged percentage\n",
    "for year in range(2012, 2015+1):\n",
    "    df_train.loc[(df_train['season']==year) & (df_train['tid1']==109), 'tid1_season_win_ratio'] = tid_points.loc[year, 109][0]             \n",
    "    df_train.loc[(df_train['season']==year) & (df_train['tid2']==109), 'tid2_season_win_ratio'] = tid_points.loc[year, 109][0]"
   ]
  },
  {
   "cell_type": "markdown",
   "metadata": {},
   "source": [
    "Making a ladder"
   ]
  },
  {
   "cell_type": "code",
   "execution_count": 48,
   "metadata": {
    "collapsed": true
   },
   "outputs": [],
   "source": [
    "df_ladder = pd.DataFrame(columns=['season', 'tid', 'tid_season_win_ratio', 'tid_season_percentage', 'ladder'])\n",
    "\n",
    "for year in range(base_year, 2015+1):\n",
    "    # Running over two rounds incase of byes\n",
    "    df_test = df_train\n",
    "    df_test = df_test[(df_test['season']==year) & (df_test['round']=='R20')]\n",
    "    df_test_1 = df_test[['season', 'tid1', 'tid1_season_win_ratio', 'tid1_season_percentage']]\n",
    "    df_test_1.columns = ['season', 'tid', 'tid_season_win_ratio', 'tid_season_percentage']\n",
    "    df_test_2 = df_test[['season', 'tid2', 'tid2_season_win_ratio', 'tid2_season_percentage']]\n",
    "    df_test_2.columns = ['season', 'tid', 'tid_season_win_ratio', 'tid_season_percentage']\n",
    "    df_test = pd.concat([df_test_1, df_test_2])\n",
    "    df_test_A = df_test.sort(['tid_season_win_ratio', 'tid_season_percentage'])\n",
    "    df_test = df_train\n",
    "    df_test = df_test[(df_test['season']==year) & (df_test['round']=='R21')]\n",
    "    df_test_1 = df_test[['season', 'tid1', 'tid1_season_win_ratio', 'tid1_season_percentage']]\n",
    "    df_test_1.columns = ['season', 'tid', 'tid_season_win_ratio', 'tid_season_percentage']\n",
    "    df_test_2 = df_test[['season', 'tid2', 'tid2_season_win_ratio', 'tid2_season_percentage']]\n",
    "    df_test_2.columns = ['season', 'tid', 'tid_season_win_ratio', 'tid_season_percentage']\n",
    "    df_test = pd.concat([df_test_1, df_test_2])\n",
    "    df_test_B = df_test.sort(['tid_season_win_ratio', 'tid_season_percentage'])\n",
    "    # dropping dupicates and creating the ladder\n",
    "    df_ladder_0 = pd.concat([df_test_A, df_test_B]).sort(['tid_season_win_ratio', 'tid_season_percentage']).drop_duplicates()\n",
    "    df_ladder_0.loc[:,'ladder'] = 0\n",
    "    ladder = np.array(list(reversed(range(1, 1 + len(df_ladder_0['ladder'])))))\n",
    "    df_ladder_0.loc[:, 'ladder'] = ladder\n",
    "    df_ladder = pd.concat([df_ladder, df_ladder_0])"
   ]
  },
  {
   "cell_type": "code",
   "execution_count": 49,
   "metadata": {
    "collapsed": false
   },
   "outputs": [],
   "source": [
    "df_ladder1 = df_ladder[['season', 'tid', 'ladder']]\n",
    "df_ladder1.columns = ['season', 'tid1', 'tid1_ladder']\n",
    "df_ladder2 = df_ladder[['season', 'tid', 'ladder']]\n",
    "df_ladder2.columns = ['season', 'tid2', 'tid2_ladder']"
   ]
  },
  {
   "cell_type": "code",
   "execution_count": 50,
   "metadata": {
    "collapsed": false
   },
   "outputs": [],
   "source": [
    "df_train = pd.merge(df_train, df_ladder1, on=['season', 'tid1'])\n",
    "df_train = pd.merge(df_train, df_ladder2, on=['season', 'tid2'])"
   ]
  },
  {
   "cell_type": "code",
   "execution_count": 51,
   "metadata": {
    "collapsed": false
   },
   "outputs": [],
   "source": [
    "df_train = df_train[['mid', 'season', 'tid1', 'tid2', 'tid1_season_percentage', 'tid2_season_percentage', 'tid1_season_win_ratio', 'tid2_season_win_ratio', 'tid1_ladder', 'tid2_ladder']]"
   ]
  },
  {
   "cell_type": "code",
   "execution_count": 52,
   "metadata": {
    "collapsed": true
   },
   "outputs": [],
   "source": [
    "df_train_2015 = df_train[df_train['season']==2015]"
   ]
  },
  {
   "cell_type": "code",
   "execution_count": 53,
   "metadata": {
    "collapsed": false
   },
   "outputs": [],
   "source": [
    "df_test = df_train\n",
    "df_train = pd.merge(df_finals, df_train, on=['season', 'tid1', 'tid2'], how = 'inner')"
   ]
  },
  {
   "cell_type": "markdown",
   "metadata": {},
   "source": [
    "Extracting the round from the data"
   ]
  },
  {
   "cell_type": "code",
   "execution_count": 54,
   "metadata": {
    "collapsed": false
   },
   "outputs": [],
   "source": [
    "df_train = df_train.drop(['h_tid', 'h_score', 'mid_y', 'a_tid', 'a_score', 'margin'], axis=1)"
   ]
  },
  {
   "cell_type": "code",
   "execution_count": 55,
   "metadata": {
    "collapsed": false
   },
   "outputs": [],
   "source": [
    "df_train.loc[:, 'week'] = 0\n",
    "df_train.loc[(df_train['round'] == 'QF'), 'week'] = 1\n",
    "df_train.loc[(df_train['round'] == 'EF'), 'week'] = 1\n",
    "df_train.loc[(df_train['round'] == 'SF'), 'week'] = 2\n",
    "df_train.loc[(df_train['round'] == 'PF'), 'week'] = 3\n",
    "df_train.loc[(df_train['round'] == 'GF'), 'week'] = 4\n",
    "df_train.loc[(df_train['round'] == 'GFR'), 'week'] = 5"
   ]
  },
  {
   "cell_type": "code",
   "execution_count": 56,
   "metadata": {
    "collapsed": false
   },
   "outputs": [],
   "source": [
    "df_train = df_train.drop_duplicates()\n",
    "df_train['mid_x'] = df_train['mid_x'].str.slice(8)"
   ]
  },
  {
   "cell_type": "code",
   "execution_count": 57,
   "metadata": {
    "collapsed": true
   },
   "outputs": [],
   "source": [
    "df_train = pd.get_dummies(df_train, columns=[\"tid1\", \"tid2\", \"tid1_loc\"])"
   ]
  },
  {
   "cell_type": "markdown",
   "metadata": {},
   "source": [
    "Developing the training, cross validation and test data"
   ]
  },
  {
   "cell_type": "code",
   "execution_count": 58,
   "metadata": {
    "collapsed": true
   },
   "outputs": [],
   "source": [
    "# Constructing a training, validation and hold out sets\n",
    "df_cv = df_train[df_train[\"season\"] == 2014].reset_index(drop=True)\n",
    "df_train = df_train[(df_train[\"season\"] >= 2000) & \n",
    "                   df_train[\"season\"] <= 2013].reset_index(drop=True)"
   ]
  },
  {
   "cell_type": "code",
   "execution_count": 59,
   "metadata": {
    "collapsed": true
   },
   "outputs": [],
   "source": [
    "df_train.to_pickle('afl_train_finals.pkl')\n",
    "df_cv.to_pickle('afl_cval_finals.pkl')"
   ]
  },
  {
   "cell_type": "markdown",
   "metadata": {
    "collapsed": true
   },
   "source": [
    "Setting up input submission data"
   ]
  },
  {
   "cell_type": "code",
   "execution_count": 60,
   "metadata": {
    "collapsed": false
   },
   "outputs": [
    {
     "name": "stderr",
     "output_type": "stream",
     "text": [
      "/anaconda/lib/python2.7/site-packages/IPython/kernel/__main__.py:1: SettingWithCopyWarning: \n",
      "A value is trying to be set on a copy of a slice from a DataFrame.\n",
      "Try using .loc[row_indexer,col_indexer] = value instead\n",
      "\n",
      "See the the caveats in the documentation: http://pandas.pydata.org/pandas-docs/stable/indexing.html#indexing-view-versus-copy\n",
      "  if __name__ == '__main__':\n"
     ]
    }
   ],
   "source": [
    "df_train_2015['mid'] = df_train_2015['mid'].str.slice(9)\n",
    "df_train_2015 = df_train_2015.drop_duplicates()"
   ]
  },
  {
   "cell_type": "code",
   "execution_count": 62,
   "metadata": {
    "collapsed": false
   },
   "outputs": [],
   "source": [
    "df_train_2015.to_pickle('afl_test_finals.pkl')"
   ]
  },
  {
   "cell_type": "code",
   "execution_count": null,
   "metadata": {
    "collapsed": true
   },
   "outputs": [],
   "source": []
  },
  {
   "cell_type": "code",
   "execution_count": null,
   "metadata": {
    "collapsed": true
   },
   "outputs": [],
   "source": []
  }
 ],
 "metadata": {
  "kernelspec": {
   "display_name": "Python 2",
   "language": "python",
   "name": "python2"
  },
  "language_info": {
   "codemirror_mode": {
    "name": "ipython",
    "version": 2
   },
   "file_extension": ".py",
   "mimetype": "text/x-python",
   "name": "python",
   "nbconvert_exporter": "python",
   "pygments_lexer": "ipython2",
   "version": "2.7.10"
  }
 },
 "nbformat": 4,
 "nbformat_minor": 0
}
